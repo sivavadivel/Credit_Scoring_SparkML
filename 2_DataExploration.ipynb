{
 "cells": [
  {
   "cell_type": "markdown",
   "id": "6a9c2d05-85fb-415a-aa07-46b025f801f8",
   "metadata": {},
   "source": [
    "## Exploring the dataset"
   ]
  },
  {
   "cell_type": "code",
   "execution_count": 1,
   "id": "63fbc0ce-b9d5-46af-9dcb-f3017f86ca33",
   "metadata": {},
   "outputs": [],
   "source": [
    "from pyspark.sql import SparkSession\n",
    "from pyspark.sql import functions as F\n",
    "import os"
   ]
  },
  {
   "cell_type": "code",
   "execution_count": 2,
   "id": "4f83714e-b110-4c00-902c-aa2b7dd778f1",
   "metadata": {},
   "outputs": [
    {
     "name": "stderr",
     "output_type": "stream",
     "text": [
      "Setting spark.hadoop.yarn.resourcemanager.principal to svadivel\n"
     ]
    }
   ],
   "source": [
    "spark = SparkSession \\\n",
    "    .builder \\\n",
    "    .appName(\"Credit Scoring\") \\\n",
    "    .config(\"spark.hadoop.fs.s3a.s3guard.ddb.region\", \"us-east-2\") \\\n",
    "    .config(\"spark.yarn.access.hadoopFileSystems\", os.environ[\"STORAGE\"]) \\\n",
    "    .getOrCreate()"
   ]
  },
  {
   "cell_type": "code",
   "execution_count": 3,
   "id": "7e12806e-217b-4623-b966-3f2a23a7dc72",
   "metadata": {},
   "outputs": [
    {
     "name": "stderr",
     "output_type": "stream",
     "text": [
      "                                                                                \r"
     ]
    },
    {
     "name": "stdout",
     "output_type": "stream",
     "text": [
      "CPU times: user 24 ms, sys: 4.46 ms, total: 28.4 ms\n",
      "Wall time: 20.1 s\n"
     ]
    }
   ],
   "source": [
    "%time df_all = spark.read.parquet(\"s3a://ps-uat2/credit_demo_lc/loan_status_part/\")"
   ]
  },
  {
   "cell_type": "code",
   "execution_count": 4,
   "id": "2067a118-e5c3-4a41-8763-f86984a75b50",
   "metadata": {},
   "outputs": [],
   "source": [
    "df_all = df_all.withColumn(\"issue_year\", F.date_format(F.to_date(df_all['issue_d'], 'MMM-yyyy'), 'yyyy'))\n",
    "df_all = df_all.withColumn(\"issue_mth\", F.date_format(F.to_date(df_all['issue_d'], 'MMM-yyyy'), 'MM'))"
   ]
  },
  {
   "cell_type": "code",
   "execution_count": 5,
   "id": "85bb5417-871b-40f6-b317-492b10ef7304",
   "metadata": {},
   "outputs": [
    {
     "name": "stderr",
     "output_type": "stream",
     "text": [
      "[Stage 2:====================================================>     (9 + 1) / 10]\r"
     ]
    },
    {
     "name": "stdout",
     "output_type": "stream",
     "text": [
      "+----------+------+\n",
      "|issue_year| count|\n",
      "+----------+------+\n",
      "|      2007|   603|\n",
      "|      2008|  2393|\n",
      "|      2009|  5281|\n",
      "|      2010| 12537|\n",
      "|      2011| 21721|\n",
      "|      2012| 53367|\n",
      "|      2013|134814|\n",
      "|      2014|235629|\n",
      "|      2015|421094|\n",
      "|      2016|434407|\n",
      "|      2017|443579|\n",
      "|      2018|495242|\n",
      "|      2019|518107|\n",
      "|      2020|146717|\n",
      "+----------+------+\n",
      "\n"
     ]
    },
    {
     "name": "stderr",
     "output_type": "stream",
     "text": [
      "                                                                                \r"
     ]
    }
   ],
   "source": [
    "#df_all.groupBy('issue_year').count().orderBy('issue_year').show(100)"
   ]
  },
  {
   "cell_type": "markdown",
   "id": "bf1fe593-aa9f-4fe5-aafe-9eb8b195878b",
   "metadata": {
    "tags": []
   },
   "source": [
    "## Date filtered between 2013 & 2017"
   ]
  },
  {
   "cell_type": "code",
   "execution_count": 5,
   "id": "9e69fdc1-2172-49d6-90a3-bf07be27c0de",
   "metadata": {},
   "outputs": [],
   "source": [
    "import pandas as pd\n",
    "pd.set_option('display.max_columns', 250)"
   ]
  },
  {
   "cell_type": "code",
   "execution_count": 6,
   "id": "c8b6ac4e-8467-426b-bc3c-c1a1a5756b0b",
   "metadata": {},
   "outputs": [],
   "source": [
    "df_hist = df_all.filter(df_all['issue_year'].between(F.lit(2013), F.lit(2017)))"
   ]
  },
  {
   "cell_type": "code",
   "execution_count": 7,
   "id": "6c5801ea-d39e-495a-a56d-78cd1f1dc99e",
   "metadata": {},
   "outputs": [
    {
     "name": "stderr",
     "output_type": "stream",
     "text": [
      "[Stage 2:======================================================>  (24 + 1) / 25]\r"
     ]
    },
    {
     "name": "stdout",
     "output_type": "stream",
     "text": [
      "+----------+------+\n",
      "|issue_year| count|\n",
      "+----------+------+\n",
      "|      2013|134814|\n",
      "|      2014|235629|\n",
      "|      2015|421094|\n",
      "|      2016|434407|\n",
      "|      2017|443579|\n",
      "+----------+------+\n",
      "\n"
     ]
    },
    {
     "name": "stderr",
     "output_type": "stream",
     "text": [
      "                                                                                \r"
     ]
    }
   ],
   "source": [
    "df_hist.groupBy('issue_year').count().orderBy('issue_year').show(100)"
   ]
  },
  {
   "cell_type": "markdown",
   "id": "91d8a0ed-71f8-44e9-8c80-bac5ecf3ba2d",
   "metadata": {},
   "source": [
    "----------"
   ]
  },
  {
   "cell_type": "markdown",
   "id": "c63d36c4-7e0f-45a1-b903-529bc25f1b2a",
   "metadata": {},
   "source": [
    "Dropping unwanted columns after analysing dataset reduces the memory required for rerunning the notebook"
   ]
  },
  {
   "cell_type": "code",
   "execution_count": 76,
   "id": "0b819a09-cf34-46e3-9fba-86311b8b5b8c",
   "metadata": {},
   "outputs": [],
   "source": [
    "drop_cols = ['issue_mth','issue_year','issue_d','debt_settlement_flag','hardship_flag','tax_liens','pub_rec_bankruptcies','chargeoff_within_12_mths','policy_code',\n",
    "             'last_fico_range_low','last_fico_range_high','last_credit_pull_d','last_pymnt_amnt','last_pymnt_d','collection_recovery_fee','recoveries','initial_list_status',\n",
    "             'pub_rec','open_acc','inq_last_6mths','fico_range_high','fico_range_low','delinq_2yrs','earliest_cr_line','addr_state','zip_code','url','pymnt_plan','sub_grade',\n",
    "             'installment','term','funded_amnt_inv','funded_amnt','id','_c0','out_prncp','out_prncp_inv','total_pymnt_inv',\n",
    "            'mo_sin_old_rev_tl_op',\n",
    " 'mo_sin_rcnt_rev_tl_op',\n",
    " 'mo_sin_rcnt_tl',\n",
    " 'mort_acc',\n",
    " 'num_accts_ever_120_pd',\n",
    " 'num_actv_bc_tl',\n",
    " 'num_actv_rev_tl',\n",
    " 'num_bc_sats',\n",
    " 'num_bc_tl',\n",
    " 'num_il_tl',\n",
    " 'num_op_rev_tl',\n",
    " 'num_rev_accts',\n",
    " 'num_rev_tl_bal_gt_0',\n",
    " 'num_sats',\n",
    " 'num_tl_30dpd',\n",
    " 'num_tl_90g_dpd_24m',\n",
    " 'num_tl_op_past_12m',\n",
    " 'pct_tl_nvr_dlq',\n",
    " 'tot_hi_cred_lim',\n",
    " 'total_bal_ex_mort',\n",
    " 'total_bc_limit',\n",
    " 'total_il_high_credit_limit']"
   ]
  },
  {
   "cell_type": "code",
   "execution_count": 77,
   "id": "b5c5023c-d36b-494a-a9c8-5445e4034554",
   "metadata": {},
   "outputs": [],
   "source": [
    "null_cols = ['emp_title', 'emp_length', 'title', 'mths_since_last_delinq',\n",
    "       'mths_since_last_record', 'next_pymnt_d', 'mths_since_last_major_derog',\n",
    "       'annual_inc_joint', 'dti_joint', 'verification_status_joint',\n",
    "       'open_acc_6m', 'open_act_il', 'open_il_12m', 'open_il_24m',\n",
    "       'mths_since_rcnt_il', 'total_bal_il', 'il_util', 'open_rv_12m',\n",
    "       'open_rv_24m', 'max_bal_bc', 'all_util', 'inq_fi', 'total_cu_tl',\n",
    "       'inq_last_12m', 'bc_open_to_buy', 'bc_util', 'mo_sin_old_il_acct',\n",
    "       'mths_since_recent_bc', 'mths_since_recent_bc_dlq',\n",
    "       'mths_since_recent_inq', 'mths_since_recent_revol_delinq',\n",
    "       'num_tl_120dpd_2m', 'percent_bc_gt_75', 'revol_bal_joint',\n",
    "       'sec_app_fico_range_low', 'sec_app_fico_range_high',\n",
    "       'sec_app_earliest_cr_line', 'sec_app_inq_last_6mths',\n",
    "       'sec_app_mort_acc', 'sec_app_open_acc', 'sec_app_revol_util',\n",
    "       'sec_app_open_act_il', 'sec_app_num_rev_accts',\n",
    "       'sec_app_chargeoff_within_12_mths',\n",
    "       'sec_app_collections_12_mths_ex_med', 'hardship_type',\n",
    "       'hardship_reason', 'hardship_status', 'deferral_term',\n",
    "       'hardship_amount', 'hardship_start_date', 'hardship_end_date',\n",
    "       'payment_plan_start_date', 'hardship_length', 'hardship_dpd',\n",
    "       'hardship_loan_status', 'orig_projected_additional_accrued_interest',\n",
    "       'hardship_payoff_balance_amount', 'hardship_last_payment_amount']"
   ]
  },
  {
   "cell_type": "code",
   "execution_count": 78,
   "id": "7a66a598-9ee5-4145-b937-f8a08ed751d0",
   "metadata": {},
   "outputs": [],
   "source": [
    "df_hist = df_hist.drop(*drop_cols)"
   ]
  },
  {
   "cell_type": "code",
   "execution_count": 79,
   "id": "44e2f43d-7bbf-4163-a60c-e3a49600982a",
   "metadata": {},
   "outputs": [],
   "source": [
    "df_non_null = df_hist.drop(*null_cols)"
   ]
  },
  {
   "cell_type": "markdown",
   "id": "625c6f3c-fac9-4b83-a257-e48f817b9fe1",
   "metadata": {},
   "source": [
    "Skipping to [here](#drop_null_records)"
   ]
  },
  {
   "cell_type": "markdown",
   "id": "740bc3d2-7c32-4a44-8d90-0cf510011783",
   "metadata": {},
   "source": [
    "-------------"
   ]
  },
  {
   "cell_type": "markdown",
   "id": "71a41ccc-927b-4c6e-a32c-dbde67be3c8e",
   "metadata": {},
   "source": [
    "**Do run the above steps if running for demo**"
   ]
  },
  {
   "cell_type": "code",
   "execution_count": 9,
   "id": "487a7825-ceec-426c-ac4f-c0ca2a6633c2",
   "metadata": {},
   "outputs": [
    {
     "name": "stderr",
     "output_type": "stream",
     "text": [
      "[Stage 320:=================================================>     (17 + 2) / 19]\r"
     ]
    },
    {
     "name": "stdout",
     "output_type": "stream",
     "text": [
      "CPU times: user 406 ms, sys: 99.7 ms, total: 506 ms\n",
      "Wall time: 1min 50s\n"
     ]
    },
    {
     "name": "stderr",
     "output_type": "stream",
     "text": [
      "                                                                                \r"
     ]
    }
   ],
   "source": [
    "%time df_pd_null_pct = df_hist.select([((F.count(F.when(F.isnan(c) | F.col(c).isNull(), c))/df_hist.count())*100).alias(c) for c in df_hist.columns])"
   ]
  },
  {
   "cell_type": "code",
   "execution_count": 10,
   "id": "41266ca4-8496-41d9-bd20-8ae94811144e",
   "metadata": {},
   "outputs": [
    {
     "name": "stderr",
     "output_type": "stream",
     "text": [
      "/opt/spark/python/lib/pyspark.zip/pyspark/sql/pandas/conversion.py:202: PerformanceWarning: DataFrame is highly fragmented.  This is usually the result of calling `frame.insert` many times, which has poor performance.  Consider joining all columns at once using pd.concat(axis=1) instead.  To get a de-fragmented frame, use `newframe = frame.copy()`\n",
      "  df[column_name] = series\n"
     ]
    },
    {
     "data": {
      "text/html": [
       "<div>\n",
       "<style scoped>\n",
       "    .dataframe tbody tr th:only-of-type {\n",
       "        vertical-align: middle;\n",
       "    }\n",
       "\n",
       "    .dataframe tbody tr th {\n",
       "        vertical-align: top;\n",
       "    }\n",
       "\n",
       "    .dataframe thead th {\n",
       "        text-align: right;\n",
       "    }\n",
       "</style>\n",
       "<table border=\"1\" class=\"dataframe\">\n",
       "  <thead>\n",
       "    <tr style=\"text-align: right;\">\n",
       "      <th></th>\n",
       "      <th>_c0</th>\n",
       "      <th>id</th>\n",
       "      <th>loan_amnt</th>\n",
       "      <th>funded_amnt</th>\n",
       "      <th>funded_amnt_inv</th>\n",
       "      <th>term</th>\n",
       "      <th>int_rate</th>\n",
       "      <th>installment</th>\n",
       "      <th>grade</th>\n",
       "      <th>sub_grade</th>\n",
       "      <th>emp_title</th>\n",
       "      <th>emp_length</th>\n",
       "      <th>home_ownership</th>\n",
       "      <th>annual_inc</th>\n",
       "      <th>verification_status</th>\n",
       "      <th>loan_status</th>\n",
       "      <th>pymnt_plan</th>\n",
       "      <th>url</th>\n",
       "      <th>purpose</th>\n",
       "      <th>title</th>\n",
       "      <th>zip_code</th>\n",
       "      <th>addr_state</th>\n",
       "      <th>dti</th>\n",
       "      <th>delinq_2yrs</th>\n",
       "      <th>earliest_cr_line</th>\n",
       "      <th>fico_range_low</th>\n",
       "      <th>fico_range_high</th>\n",
       "      <th>inq_last_6mths</th>\n",
       "      <th>mths_since_last_delinq</th>\n",
       "      <th>mths_since_last_record</th>\n",
       "      <th>open_acc</th>\n",
       "      <th>pub_rec</th>\n",
       "      <th>revol_bal</th>\n",
       "      <th>revol_util</th>\n",
       "      <th>total_acc</th>\n",
       "      <th>initial_list_status</th>\n",
       "      <th>out_prncp</th>\n",
       "      <th>out_prncp_inv</th>\n",
       "      <th>total_pymnt</th>\n",
       "      <th>total_pymnt_inv</th>\n",
       "      <th>total_rec_prncp</th>\n",
       "      <th>total_rec_int</th>\n",
       "      <th>total_rec_late_fee</th>\n",
       "      <th>recoveries</th>\n",
       "      <th>collection_recovery_fee</th>\n",
       "      <th>last_pymnt_d</th>\n",
       "      <th>last_pymnt_amnt</th>\n",
       "      <th>next_pymnt_d</th>\n",
       "      <th>last_credit_pull_d</th>\n",
       "      <th>last_fico_range_high</th>\n",
       "      <th>last_fico_range_low</th>\n",
       "      <th>collections_12_mths_ex_med</th>\n",
       "      <th>mths_since_last_major_derog</th>\n",
       "      <th>policy_code</th>\n",
       "      <th>application_type</th>\n",
       "      <th>annual_inc_joint</th>\n",
       "      <th>dti_joint</th>\n",
       "      <th>verification_status_joint</th>\n",
       "      <th>acc_now_delinq</th>\n",
       "      <th>tot_coll_amt</th>\n",
       "      <th>tot_cur_bal</th>\n",
       "      <th>open_acc_6m</th>\n",
       "      <th>open_act_il</th>\n",
       "      <th>open_il_12m</th>\n",
       "      <th>open_il_24m</th>\n",
       "      <th>mths_since_rcnt_il</th>\n",
       "      <th>total_bal_il</th>\n",
       "      <th>il_util</th>\n",
       "      <th>open_rv_12m</th>\n",
       "      <th>open_rv_24m</th>\n",
       "      <th>max_bal_bc</th>\n",
       "      <th>all_util</th>\n",
       "      <th>total_rev_hi_lim</th>\n",
       "      <th>inq_fi</th>\n",
       "      <th>total_cu_tl</th>\n",
       "      <th>inq_last_12m</th>\n",
       "      <th>acc_open_past_24mths</th>\n",
       "      <th>avg_cur_bal</th>\n",
       "      <th>bc_open_to_buy</th>\n",
       "      <th>bc_util</th>\n",
       "      <th>chargeoff_within_12_mths</th>\n",
       "      <th>delinq_amnt</th>\n",
       "      <th>mo_sin_old_il_acct</th>\n",
       "      <th>mo_sin_old_rev_tl_op</th>\n",
       "      <th>mo_sin_rcnt_rev_tl_op</th>\n",
       "      <th>mo_sin_rcnt_tl</th>\n",
       "      <th>mort_acc</th>\n",
       "      <th>mths_since_recent_bc</th>\n",
       "      <th>mths_since_recent_bc_dlq</th>\n",
       "      <th>mths_since_recent_inq</th>\n",
       "      <th>mths_since_recent_revol_delinq</th>\n",
       "      <th>num_accts_ever_120_pd</th>\n",
       "      <th>num_actv_bc_tl</th>\n",
       "      <th>num_actv_rev_tl</th>\n",
       "      <th>num_bc_sats</th>\n",
       "      <th>num_bc_tl</th>\n",
       "      <th>num_il_tl</th>\n",
       "      <th>num_op_rev_tl</th>\n",
       "      <th>num_rev_accts</th>\n",
       "      <th>num_rev_tl_bal_gt_0</th>\n",
       "      <th>num_sats</th>\n",
       "      <th>num_tl_120dpd_2m</th>\n",
       "      <th>num_tl_30dpd</th>\n",
       "      <th>num_tl_90g_dpd_24m</th>\n",
       "      <th>num_tl_op_past_12m</th>\n",
       "      <th>pct_tl_nvr_dlq</th>\n",
       "      <th>percent_bc_gt_75</th>\n",
       "      <th>pub_rec_bankruptcies</th>\n",
       "      <th>tax_liens</th>\n",
       "      <th>tot_hi_cred_lim</th>\n",
       "      <th>total_bal_ex_mort</th>\n",
       "      <th>total_bc_limit</th>\n",
       "      <th>total_il_high_credit_limit</th>\n",
       "      <th>revol_bal_joint</th>\n",
       "      <th>sec_app_fico_range_low</th>\n",
       "      <th>sec_app_fico_range_high</th>\n",
       "      <th>sec_app_earliest_cr_line</th>\n",
       "      <th>sec_app_inq_last_6mths</th>\n",
       "      <th>sec_app_mort_acc</th>\n",
       "      <th>sec_app_open_acc</th>\n",
       "      <th>sec_app_revol_util</th>\n",
       "      <th>sec_app_open_act_il</th>\n",
       "      <th>sec_app_num_rev_accts</th>\n",
       "      <th>sec_app_chargeoff_within_12_mths</th>\n",
       "      <th>sec_app_collections_12_mths_ex_med</th>\n",
       "      <th>hardship_flag</th>\n",
       "      <th>hardship_type</th>\n",
       "      <th>hardship_reason</th>\n",
       "      <th>hardship_status</th>\n",
       "      <th>deferral_term</th>\n",
       "      <th>hardship_amount</th>\n",
       "      <th>hardship_start_date</th>\n",
       "      <th>hardship_end_date</th>\n",
       "      <th>payment_plan_start_date</th>\n",
       "      <th>hardship_length</th>\n",
       "      <th>hardship_dpd</th>\n",
       "      <th>hardship_loan_status</th>\n",
       "      <th>orig_projected_additional_accrued_interest</th>\n",
       "      <th>hardship_payoff_balance_amount</th>\n",
       "      <th>hardship_last_payment_amount</th>\n",
       "      <th>debt_settlement_flag</th>\n",
       "      <th>issue_d</th>\n",
       "      <th>issue_year</th>\n",
       "      <th>issue_mth</th>\n",
       "    </tr>\n",
       "  </thead>\n",
       "  <tbody>\n",
       "    <tr>\n",
       "      <th>0</th>\n",
       "      <td>0.0</td>\n",
       "      <td>0.0</td>\n",
       "      <td>0.0</td>\n",
       "      <td>0.0</td>\n",
       "      <td>0.0</td>\n",
       "      <td>0.0</td>\n",
       "      <td>0.0</td>\n",
       "      <td>0.0</td>\n",
       "      <td>0.0</td>\n",
       "      <td>0.0</td>\n",
       "      <td>6.361641</td>\n",
       "      <td>5.943045</td>\n",
       "      <td>0.0</td>\n",
       "      <td>0.000227</td>\n",
       "      <td>0.0</td>\n",
       "      <td>0.0</td>\n",
       "      <td>0.0</td>\n",
       "      <td>0.0</td>\n",
       "      <td>0.0</td>\n",
       "      <td>1.321212</td>\n",
       "      <td>0.000057</td>\n",
       "      <td>0.0</td>\n",
       "      <td>0.032797</td>\n",
       "      <td>0.001643</td>\n",
       "      <td>0.001643</td>\n",
       "      <td>0.0</td>\n",
       "      <td>0.0</td>\n",
       "      <td>0.001699</td>\n",
       "      <td>49.951032</td>\n",
       "      <td>83.223813</td>\n",
       "      <td>0.001699</td>\n",
       "      <td>0.001643</td>\n",
       "      <td>0.0</td>\n",
       "      <td>0.068539</td>\n",
       "      <td>0.001643</td>\n",
       "      <td>0.0</td>\n",
       "      <td>0.0</td>\n",
       "      <td>0.0</td>\n",
       "      <td>0.0</td>\n",
       "      <td>0.0</td>\n",
       "      <td>0.0</td>\n",
       "      <td>0.0</td>\n",
       "      <td>0.0</td>\n",
       "      <td>0.0</td>\n",
       "      <td>0.0</td>\n",
       "      <td>0.101222</td>\n",
       "      <td>0.0</td>\n",
       "      <td>89.703273</td>\n",
       "      <td>0.003852</td>\n",
       "      <td>0.0</td>\n",
       "      <td>0.0</td>\n",
       "      <td>0.008213</td>\n",
       "      <td>73.607318</td>\n",
       "      <td>0.000057</td>\n",
       "      <td>0.0</td>\n",
       "      <td>97.070054</td>\n",
       "      <td>97.070337</td>\n",
       "      <td>97.07045</td>\n",
       "      <td>0.001699</td>\n",
       "      <td>3.980628</td>\n",
       "      <td>3.980685</td>\n",
       "      <td>49.060651</td>\n",
       "      <td>49.060594</td>\n",
       "      <td>49.060594</td>\n",
       "      <td>49.060594</td>\n",
       "      <td>50.498492</td>\n",
       "      <td>49.060594</td>\n",
       "      <td>55.965277</td>\n",
       "      <td>49.060594</td>\n",
       "      <td>49.060594</td>\n",
       "      <td>49.060594</td>\n",
       "      <td>49.065692</td>\n",
       "      <td>3.980685</td>\n",
       "      <td>49.060594</td>\n",
       "      <td>49.060651</td>\n",
       "      <td>49.060651</td>\n",
       "      <td>2.833879</td>\n",
       "      <td>3.982384</td>\n",
       "      <td>3.871419</td>\n",
       "      <td>3.923588</td>\n",
       "      <td>0.00827</td>\n",
       "      <td>0.001643</td>\n",
       "      <td>6.834615</td>\n",
       "      <td>3.980741</td>\n",
       "      <td>3.980741</td>\n",
       "      <td>3.980685</td>\n",
       "      <td>2.833879</td>\n",
       "      <td>3.807242</td>\n",
       "      <td>76.119575</td>\n",
       "      <td>13.261962</td>\n",
       "      <td>66.145886</td>\n",
       "      <td>3.980685</td>\n",
       "      <td>3.980685</td>\n",
       "      <td>3.980685</td>\n",
       "      <td>3.318748</td>\n",
       "      <td>3.980685</td>\n",
       "      <td>3.980685</td>\n",
       "      <td>3.980685</td>\n",
       "      <td>3.980741</td>\n",
       "      <td>3.980685</td>\n",
       "      <td>3.318748</td>\n",
       "      <td>8.001076</td>\n",
       "      <td>3.980685</td>\n",
       "      <td>3.980685</td>\n",
       "      <td>3.980685</td>\n",
       "      <td>3.989351</td>\n",
       "      <td>3.896116</td>\n",
       "      <td>0.077375</td>\n",
       "      <td>0.005948</td>\n",
       "      <td>3.980628</td>\n",
       "      <td>2.833879</td>\n",
       "      <td>2.833879</td>\n",
       "      <td>3.980685</td>\n",
       "      <td>97.788918</td>\n",
       "      <td>97.788861</td>\n",
       "      <td>97.788861</td>\n",
       "      <td>97.788861</td>\n",
       "      <td>97.788861</td>\n",
       "      <td>97.788861</td>\n",
       "      <td>97.788861</td>\n",
       "      <td>97.825113</td>\n",
       "      <td>97.788861</td>\n",
       "      <td>97.788861</td>\n",
       "      <td>97.788861</td>\n",
       "      <td>97.788861</td>\n",
       "      <td>0.569665</td>\n",
       "      <td>98.152796</td>\n",
       "      <td>98.152853</td>\n",
       "      <td>98.152966</td>\n",
       "      <td>98.152853</td>\n",
       "      <td>97.583188</td>\n",
       "      <td>98.152853</td>\n",
       "      <td>98.152853</td>\n",
       "      <td>98.152853</td>\n",
       "      <td>98.152853</td>\n",
       "      <td>98.152909</td>\n",
       "      <td>98.155515</td>\n",
       "      <td>97.725817</td>\n",
       "      <td>97.583188</td>\n",
       "      <td>97.583188</td>\n",
       "      <td>0.000057</td>\n",
       "      <td>0.0</td>\n",
       "      <td>0.0</td>\n",
       "      <td>0.0</td>\n",
       "    </tr>\n",
       "  </tbody>\n",
       "</table>\n",
       "</div>"
      ],
      "text/plain": [
       "   _c0   id  loan_amnt  funded_amnt  funded_amnt_inv  term  int_rate  \\\n",
       "0  0.0  0.0        0.0          0.0              0.0   0.0       0.0   \n",
       "\n",
       "   installment  grade  sub_grade  emp_title  emp_length  home_ownership  \\\n",
       "0          0.0    0.0        0.0   6.361641    5.943045             0.0   \n",
       "\n",
       "   annual_inc  verification_status  loan_status  pymnt_plan  url  purpose  \\\n",
       "0    0.000227                  0.0          0.0         0.0  0.0      0.0   \n",
       "\n",
       "      title  zip_code  addr_state       dti  delinq_2yrs  earliest_cr_line  \\\n",
       "0  1.321212  0.000057         0.0  0.032797     0.001643          0.001643   \n",
       "\n",
       "   fico_range_low  fico_range_high  inq_last_6mths  mths_since_last_delinq  \\\n",
       "0             0.0              0.0        0.001699               49.951032   \n",
       "\n",
       "   mths_since_last_record  open_acc   pub_rec  revol_bal  revol_util  \\\n",
       "0               83.223813  0.001699  0.001643        0.0    0.068539   \n",
       "\n",
       "   total_acc  initial_list_status  out_prncp  out_prncp_inv  total_pymnt  \\\n",
       "0   0.001643                  0.0        0.0            0.0          0.0   \n",
       "\n",
       "   total_pymnt_inv  total_rec_prncp  total_rec_int  total_rec_late_fee  \\\n",
       "0              0.0              0.0            0.0                 0.0   \n",
       "\n",
       "   recoveries  collection_recovery_fee  last_pymnt_d  last_pymnt_amnt  \\\n",
       "0         0.0                      0.0      0.101222              0.0   \n",
       "\n",
       "   next_pymnt_d  last_credit_pull_d  last_fico_range_high  \\\n",
       "0     89.703273            0.003852                   0.0   \n",
       "\n",
       "   last_fico_range_low  collections_12_mths_ex_med  \\\n",
       "0                  0.0                    0.008213   \n",
       "\n",
       "   mths_since_last_major_derog  policy_code  application_type  \\\n",
       "0                    73.607318     0.000057               0.0   \n",
       "\n",
       "   annual_inc_joint  dti_joint  verification_status_joint  acc_now_delinq  \\\n",
       "0         97.070054  97.070337                   97.07045        0.001699   \n",
       "\n",
       "   tot_coll_amt  tot_cur_bal  open_acc_6m  open_act_il  open_il_12m  \\\n",
       "0      3.980628     3.980685    49.060651    49.060594    49.060594   \n",
       "\n",
       "   open_il_24m  mths_since_rcnt_il  total_bal_il    il_util  open_rv_12m  \\\n",
       "0    49.060594           50.498492     49.060594  55.965277    49.060594   \n",
       "\n",
       "   open_rv_24m  max_bal_bc   all_util  total_rev_hi_lim     inq_fi  \\\n",
       "0    49.060594   49.060594  49.065692          3.980685  49.060594   \n",
       "\n",
       "   total_cu_tl  inq_last_12m  acc_open_past_24mths  avg_cur_bal  \\\n",
       "0    49.060651     49.060651              2.833879     3.982384   \n",
       "\n",
       "   bc_open_to_buy   bc_util  chargeoff_within_12_mths  delinq_amnt  \\\n",
       "0        3.871419  3.923588                   0.00827     0.001643   \n",
       "\n",
       "   mo_sin_old_il_acct  mo_sin_old_rev_tl_op  mo_sin_rcnt_rev_tl_op  \\\n",
       "0            6.834615              3.980741               3.980741   \n",
       "\n",
       "   mo_sin_rcnt_tl  mort_acc  mths_since_recent_bc  mths_since_recent_bc_dlq  \\\n",
       "0        3.980685  2.833879              3.807242                 76.119575   \n",
       "\n",
       "   mths_since_recent_inq  mths_since_recent_revol_delinq  \\\n",
       "0              13.261962                       66.145886   \n",
       "\n",
       "   num_accts_ever_120_pd  num_actv_bc_tl  num_actv_rev_tl  num_bc_sats  \\\n",
       "0               3.980685        3.980685         3.980685     3.318748   \n",
       "\n",
       "   num_bc_tl  num_il_tl  num_op_rev_tl  num_rev_accts  num_rev_tl_bal_gt_0  \\\n",
       "0   3.980685   3.980685       3.980685       3.980741             3.980685   \n",
       "\n",
       "   num_sats  num_tl_120dpd_2m  num_tl_30dpd  num_tl_90g_dpd_24m  \\\n",
       "0  3.318748          8.001076      3.980685            3.980685   \n",
       "\n",
       "   num_tl_op_past_12m  pct_tl_nvr_dlq  percent_bc_gt_75  pub_rec_bankruptcies  \\\n",
       "0            3.980685        3.989351          3.896116              0.077375   \n",
       "\n",
       "   tax_liens  tot_hi_cred_lim  total_bal_ex_mort  total_bc_limit  \\\n",
       "0   0.005948         3.980628           2.833879        2.833879   \n",
       "\n",
       "   total_il_high_credit_limit  revol_bal_joint  sec_app_fico_range_low  \\\n",
       "0                    3.980685        97.788918               97.788861   \n",
       "\n",
       "   sec_app_fico_range_high  sec_app_earliest_cr_line  sec_app_inq_last_6mths  \\\n",
       "0                97.788861                 97.788861               97.788861   \n",
       "\n",
       "   sec_app_mort_acc  sec_app_open_acc  sec_app_revol_util  \\\n",
       "0         97.788861         97.788861           97.825113   \n",
       "\n",
       "   sec_app_open_act_il  sec_app_num_rev_accts  \\\n",
       "0            97.788861              97.788861   \n",
       "\n",
       "   sec_app_chargeoff_within_12_mths  sec_app_collections_12_mths_ex_med  \\\n",
       "0                         97.788861                           97.788861   \n",
       "\n",
       "   hardship_flag  hardship_type  hardship_reason  hardship_status  \\\n",
       "0       0.569665      98.152796        98.152853        98.152966   \n",
       "\n",
       "   deferral_term  hardship_amount  hardship_start_date  hardship_end_date  \\\n",
       "0      98.152853        97.583188            98.152853          98.152853   \n",
       "\n",
       "   payment_plan_start_date  hardship_length  hardship_dpd  \\\n",
       "0                98.152853        98.152853     98.152909   \n",
       "\n",
       "   hardship_loan_status  orig_projected_additional_accrued_interest  \\\n",
       "0             98.155515                                   97.725817   \n",
       "\n",
       "   hardship_payoff_balance_amount  hardship_last_payment_amount  \\\n",
       "0                       97.583188                     97.583188   \n",
       "\n",
       "   debt_settlement_flag  issue_d  issue_year  issue_mth  \n",
       "0              0.000057      0.0         0.0        0.0  "
      ]
     },
     "execution_count": 10,
     "metadata": {},
     "output_type": "execute_result"
    }
   ],
   "source": [
    "df_pd_null_pct.toPandas()"
   ]
  },
  {
   "cell_type": "code",
   "execution_count": 10,
   "id": "21b3b5e5-9ded-4094-82e9-e3dfdae44218",
   "metadata": {},
   "outputs": [
    {
     "name": "stderr",
     "output_type": "stream",
     "text": [
      "/opt/spark/python/lib/pyspark.zip/pyspark/sql/pandas/conversion.py:202: PerformanceWarning: DataFrame is highly fragmented.  This is usually the result of calling `frame.insert` many times, which has poor performance.  Consider joining all columns at once using pd.concat(axis=1) instead.  To get a de-fragmented frame, use `newframe = frame.copy()`\n",
      "  df[column_name] = series\n"
     ]
    }
   ],
   "source": [
    "null_cols = df_pd_null_pct.toPandas().T[(df_pd_null_pct.toPandas().T > 1).any(axis=1)].index"
   ]
  },
  {
   "cell_type": "code",
   "execution_count": 11,
   "id": "52df5836-41da-4712-b375-c08b81fe17a5",
   "metadata": {},
   "outputs": [],
   "source": [
    "# Dropping NULL columns\n",
    "df_non_null = df_hist.drop(*null_cols)"
   ]
  },
  {
   "cell_type": "code",
   "execution_count": 12,
   "id": "209eac08-98a2-4aec-b52b-35bac4976eb4",
   "metadata": {},
   "outputs": [
    {
     "name": "stdout",
     "output_type": "stream",
     "text": [
      "Index(['emp_title', 'emp_length', 'title', 'mths_since_last_delinq',\n",
      "       'mths_since_last_record', 'next_pymnt_d', 'mths_since_last_major_derog',\n",
      "       'annual_inc_joint', 'dti_joint', 'verification_status_joint',\n",
      "       'open_acc_6m', 'open_act_il', 'open_il_12m', 'open_il_24m',\n",
      "       'mths_since_rcnt_il', 'total_bal_il', 'il_util', 'open_rv_12m',\n",
      "       'open_rv_24m', 'max_bal_bc', 'all_util', 'inq_fi', 'total_cu_tl',\n",
      "       'inq_last_12m', 'bc_open_to_buy', 'bc_util', 'mo_sin_old_il_acct',\n",
      "       'mths_since_recent_bc', 'mths_since_recent_bc_dlq',\n",
      "       'mths_since_recent_inq', 'mths_since_recent_revol_delinq',\n",
      "       'num_tl_120dpd_2m', 'percent_bc_gt_75', 'revol_bal_joint',\n",
      "       'sec_app_fico_range_low', 'sec_app_fico_range_high',\n",
      "       'sec_app_earliest_cr_line', 'sec_app_inq_last_6mths',\n",
      "       'sec_app_mort_acc', 'sec_app_open_acc', 'sec_app_revol_util',\n",
      "       'sec_app_open_act_il', 'sec_app_num_rev_accts',\n",
      "       'sec_app_chargeoff_within_12_mths',\n",
      "       'sec_app_collections_12_mths_ex_med', 'hardship_type',\n",
      "       'hardship_reason', 'hardship_status', 'deferral_term',\n",
      "       'hardship_amount', 'hardship_start_date', 'hardship_end_date',\n",
      "       'payment_plan_start_date', 'hardship_length', 'hardship_dpd',\n",
      "       'hardship_loan_status', 'orig_projected_additional_accrued_interest',\n",
      "       'hardship_payoff_balance_amount', 'hardship_last_payment_amount'],\n",
      "      dtype='object')\n"
     ]
    }
   ],
   "source": [
    "print(null_cols)"
   ]
  },
  {
   "cell_type": "code",
   "execution_count": 13,
   "id": "a199d361-dcc0-43f8-8bfc-401a2310f6be",
   "metadata": {},
   "outputs": [
    {
     "data": {
      "text/plain": [
       "(106, 47)"
      ]
     },
     "execution_count": 13,
     "metadata": {},
     "output_type": "execute_result"
    }
   ],
   "source": [
    "len(df_hist.columns), len(df_non_null.columns)"
   ]
  },
  {
   "cell_type": "code",
   "execution_count": 14,
   "id": "65b397d9-3d3a-43b2-8947-7c7ec29ccefc",
   "metadata": {},
   "outputs": [],
   "source": [
    "cat_cols = [item[0] for item in df_non_null.dtypes if item[1].startswith('string')]\n",
    "num_cols = [item[0] for item in df_non_null.dtypes if item[1].startswith('in') or item[1].startswith('dou')]\n",
    "num_features, cat_features = num_cols, cat_cols"
   ]
  },
  {
   "cell_type": "code",
   "execution_count": 15,
   "id": "c60e2c12-9fd9-442d-8003-e53166b4a05c",
   "metadata": {},
   "outputs": [
    {
     "name": "stdout",
     "output_type": "stream",
     "text": [
      "['int_rate', 'grade', 'home_ownership', 'annual_inc', 'verification_status', 'loan_status', 'purpose', 'dti', 'revol_util', 'total_acc', 'application_type']\n"
     ]
    }
   ],
   "source": [
    "print(cat_cols)"
   ]
  },
  {
   "cell_type": "code",
   "execution_count": 16,
   "id": "3c8786c0-d0d4-4e03-8408-5bf298d84bbe",
   "metadata": {},
   "outputs": [
    {
     "name": "stdout",
     "output_type": "stream",
     "text": [
      "['loan_amnt', 'revol_bal', 'total_pymnt', 'total_rec_prncp', 'total_rec_int', 'total_rec_late_fee', 'collections_12_mths_ex_med', 'acc_now_delinq', 'tot_coll_amt', 'tot_cur_bal', 'total_rev_hi_lim', 'acc_open_past_24mths', 'avg_cur_bal', 'delinq_amnt', 'mo_sin_old_rev_tl_op', 'mo_sin_rcnt_rev_tl_op', 'mo_sin_rcnt_tl', 'mort_acc', 'num_accts_ever_120_pd', 'num_actv_bc_tl', 'num_actv_rev_tl', 'num_bc_sats', 'num_bc_tl', 'num_il_tl', 'num_op_rev_tl', 'num_rev_accts', 'num_rev_tl_bal_gt_0', 'num_sats', 'num_tl_30dpd', 'num_tl_90g_dpd_24m', 'num_tl_op_past_12m', 'pct_tl_nvr_dlq', 'tot_hi_cred_lim', 'total_bal_ex_mort', 'total_bc_limit', 'total_il_high_credit_limit']\n"
     ]
    }
   ],
   "source": [
    "print(num_cols)"
   ]
  },
  {
   "cell_type": "markdown",
   "id": "69fc3f04-2bc2-4026-937b-6d7f3ca80007",
   "metadata": {},
   "source": [
    "## Dropping null records\n",
    "<a id='drop_null_records'></a>"
   ]
  },
  {
   "cell_type": "code",
   "execution_count": 80,
   "id": "6120fc31-8167-483c-99c2-7692759ce06f",
   "metadata": {},
   "outputs": [
    {
     "name": "stderr",
     "output_type": "stream",
     "text": [
      "                                                                                \r"
     ]
    },
    {
     "data": {
      "text/plain": [
       "1669523"
      ]
     },
     "execution_count": 80,
     "metadata": {},
     "output_type": "execute_result"
    }
   ],
   "source": [
    "df_non_null.count()"
   ]
  },
  {
   "cell_type": "code",
   "execution_count": 81,
   "id": "caba7702-6bad-434a-b32c-2f8ed20ce289",
   "metadata": {},
   "outputs": [],
   "source": [
    "df_hist_na = df_non_null.dropna()"
   ]
  },
  {
   "cell_type": "code",
   "execution_count": 82,
   "id": "387fd5bd-fe8b-49b0-a7c5-c8a23cd40197",
   "metadata": {},
   "outputs": [
    {
     "name": "stderr",
     "output_type": "stream",
     "text": [
      "                                                                                \r"
     ]
    },
    {
     "data": {
      "text/plain": [
       "1667873"
      ]
     },
     "execution_count": 82,
     "metadata": {},
     "output_type": "execute_result"
    }
   ],
   "source": [
    "df_hist_na.count()"
   ]
  },
  {
   "cell_type": "markdown",
   "id": "1b8691e8-8ddf-4078-911a-5ebe83a7a9b8",
   "metadata": {},
   "source": [
    "## Label Column"
   ]
  },
  {
   "cell_type": "code",
   "execution_count": 83,
   "id": "796793f3-d8a5-4a4a-b89f-06d0c6bf5d87",
   "metadata": {},
   "outputs": [
    {
     "name": "stderr",
     "output_type": "stream",
     "text": [
      "[Stage 45:==============================================>           (4 + 1) / 5]\r"
     ]
    },
    {
     "name": "stdout",
     "output_type": "stream",
     "text": [
      "+------------------+----------+-------+\n",
      "|       loan_status|is_default|  count|\n",
      "+------------------+----------+-------+\n",
      "|       Charged Off|         1| 287321|\n",
      "|           Current|         0| 171353|\n",
      "|           Default|         1|    249|\n",
      "|        Fully Paid|         0|1201878|\n",
      "|   In Grace Period|         0|   2543|\n",
      "| Late (16-30 days)|         0|    662|\n",
      "|Late (31-120 days)|         0|   3867|\n",
      "+------------------+----------+-------+\n",
      "\n"
     ]
    },
    {
     "name": "stderr",
     "output_type": "stream",
     "text": [
      "                                                                                \r"
     ]
    }
   ],
   "source": [
    "#df_labelled = df_hist_na.withColumn(\"is_default\", F.when((df_non_null[\"loan_status\"] == \"Charged Off\")|(df_non_null[\"loan_status\"] == \"Default\"), 1).otherwise(0))\n",
    "df_labelled = df_hist_na.withColumn(\"is_default\", F.when((F.col(\"loan_status\").contains(\"Charged Off\"))|(F.col(\"loan_status\").contains(\"Default\")), 1).otherwise(0))\n",
    "df_labelled.groupBy(\"loan_status\",'is_default').count().orderBy(\"loan_status\",'is_default').show()"
   ]
  },
  {
   "cell_type": "markdown",
   "id": "2c042a1e-09a3-424b-9851-27487380c3be",
   "metadata": {},
   "source": [
    "**Dropping label source column**"
   ]
  },
  {
   "cell_type": "code",
   "execution_count": 84,
   "id": "43fa8988-b7a0-4c82-ae90-9c25c4ff35a7",
   "metadata": {},
   "outputs": [],
   "source": [
    "df_labelled = df_labelled.drop('loan_status')"
   ]
  },
  {
   "cell_type": "code",
   "execution_count": 85,
   "id": "7830f41c-70be-4b53-af2a-e8dc919b8ca7",
   "metadata": {},
   "outputs": [
    {
     "name": "stdout",
     "output_type": "stream",
     "text": [
      "root\n",
      " |-- loan_amnt: integer (nullable = true)\n",
      " |-- int_rate: string (nullable = true)\n",
      " |-- grade: string (nullable = true)\n",
      " |-- home_ownership: string (nullable = true)\n",
      " |-- annual_inc: string (nullable = true)\n",
      " |-- verification_status: string (nullable = true)\n",
      " |-- purpose: string (nullable = true)\n",
      " |-- dti: string (nullable = true)\n",
      " |-- revol_bal: integer (nullable = true)\n",
      " |-- revol_util: string (nullable = true)\n",
      " |-- total_acc: string (nullable = true)\n",
      " |-- total_pymnt: double (nullable = true)\n",
      " |-- total_rec_prncp: double (nullable = true)\n",
      " |-- total_rec_int: double (nullable = true)\n",
      " |-- total_rec_late_fee: double (nullable = true)\n",
      " |-- collections_12_mths_ex_med: integer (nullable = true)\n",
      " |-- application_type: string (nullable = true)\n",
      " |-- acc_now_delinq: integer (nullable = true)\n",
      " |-- tot_coll_amt: integer (nullable = true)\n",
      " |-- tot_cur_bal: integer (nullable = true)\n",
      " |-- total_rev_hi_lim: integer (nullable = true)\n",
      " |-- acc_open_past_24mths: integer (nullable = true)\n",
      " |-- avg_cur_bal: integer (nullable = true)\n",
      " |-- delinq_amnt: integer (nullable = true)\n",
      " |-- is_default: integer (nullable = false)\n",
      "\n"
     ]
    }
   ],
   "source": [
    "df_labelled.printSchema()"
   ]
  },
  {
   "cell_type": "markdown",
   "id": "1b90a81b-4e5b-4ac2-9c76-ed879456b271",
   "metadata": {},
   "source": [
    "**Skipping analysis. Jump [here](#feature_selection)**"
   ]
  },
  {
   "cell_type": "markdown",
   "id": "0e8f070c-0c9e-425c-981e-998cb7b5104b",
   "metadata": {
    "jp-MarkdownHeadingCollapsed": true,
    "tags": []
   },
   "source": [
    "### Analyse columns"
   ]
  },
  {
   "cell_type": "code",
   "execution_count": 22,
   "id": "f365dfd2-2993-41d1-8f7f-37e830097871",
   "metadata": {},
   "outputs": [
    {
     "name": "stderr",
     "output_type": "stream",
     "text": [
      "                                                                                \r"
     ]
    },
    {
     "data": {
      "text/plain": [
       "11"
      ]
     },
     "execution_count": 22,
     "metadata": {},
     "output_type": "execute_result"
    }
   ],
   "source": [
    "df_labelled.select('chargeoff_within_12_mths').distinct().count()"
   ]
  },
  {
   "cell_type": "code",
   "execution_count": 23,
   "id": "8d22a262-484e-4bd2-b04b-faf2b3d06406",
   "metadata": {},
   "outputs": [],
   "source": [
    "import matplotlib.pyplot as plt"
   ]
  },
  {
   "cell_type": "code",
   "execution_count": 24,
   "id": "e67a8313-3008-4ef8-8bff-87e8d74a5c7a",
   "metadata": {},
   "outputs": [],
   "source": [
    "def draw_plot(df, col_name):\n",
    "    width = 0.35\n",
    "    fig, ax = plt.subplots()\n",
    "    ax.bar(df[col_name], df['count'], width, label=col_name)\n",
    "    ax.set_ylabel('Count')\n",
    "    ax.set_title('Distinct value count')\n",
    "    ax.legend()\n",
    "    plt.show()"
   ]
  },
  {
   "cell_type": "code",
   "execution_count": 25,
   "id": "2b345651-bd53-427c-8713-f223ec70a3c7",
   "metadata": {},
   "outputs": [
    {
     "name": "stderr",
     "output_type": "stream",
     "text": [
      "                                                                                \r"
     ]
    },
    {
     "data": {
      "image/png": "[encoded data removed]",
      "text/plain": [
       "<Figure size 432x288 with 1 Axes>"
      ]
     },
     "metadata": {
      "needs_background": "light"
     },
     "output_type": "display_data"
    }
   ],
   "source": [
    "pd_chargeoff_within_12_mths = df_labelled.groupBy('chargeoff_within_12_mths').count().filter('chargeoff_within_12_mths > 0').toPandas()\n",
    "\n",
    "draw_plot(pd_chargeoff_within_12_mths, 'chargeoff_within_12_mths')"
   ]
  },
  {
   "cell_type": "code",
   "execution_count": 26,
   "id": "97b4a570-8868-43aa-b455-b448b7d6463c",
   "metadata": {},
   "outputs": [
    {
     "name": "stderr",
     "output_type": "stream",
     "text": [
      "                                                                                \r"
     ]
    },
    {
     "data": {
      "image/png": "[encoded data removed]",
      "text/plain": [
       "<Figure size 432x288 with 1 Axes>"
      ]
     },
     "metadata": {
      "needs_background": "light"
     },
     "output_type": "display_data"
    }
   ],
   "source": [
    "pd_collections_12_mths_ex_med = df_labelled.groupBy('collections_12_mths_ex_med').count().filter('collections_12_mths_ex_med > 0').toPandas()\n",
    "\n",
    "draw_plot(pd_collections_12_mths_ex_med, 'collections_12_mths_ex_med')"
   ]
  },
  {
   "cell_type": "code",
   "execution_count": 27,
   "id": "50e78829-ed6c-4e4b-8044-b0e5d2f5e086",
   "metadata": {},
   "outputs": [
    {
     "name": "stderr",
     "output_type": "stream",
     "text": [
      "                                                                                \r"
     ]
    },
    {
     "data": {
      "text/html": [
       "<div>\n",
       "<style scoped>\n",
       "    .dataframe tbody tr th:only-of-type {\n",
       "        vertical-align: middle;\n",
       "    }\n",
       "\n",
       "    .dataframe tbody tr th {\n",
       "        vertical-align: top;\n",
       "    }\n",
       "\n",
       "    .dataframe thead th {\n",
       "        text-align: right;\n",
       "    }\n",
       "</style>\n",
       "<table border=\"1\" class=\"dataframe\">\n",
       "  <thead>\n",
       "    <tr style=\"text-align: right;\">\n",
       "      <th></th>\n",
       "      <th>collections_12_mths_ex_med</th>\n",
       "      <th>is_default</th>\n",
       "      <th>count</th>\n",
       "    </tr>\n",
       "  </thead>\n",
       "  <tbody>\n",
       "    <tr>\n",
       "      <th>0</th>\n",
       "      <td>11</td>\n",
       "      <td>0</td>\n",
       "      <td>1</td>\n",
       "    </tr>\n",
       "    <tr>\n",
       "      <th>1</th>\n",
       "      <td>16</td>\n",
       "      <td>0</td>\n",
       "      <td>1</td>\n",
       "    </tr>\n",
       "    <tr>\n",
       "      <th>2</th>\n",
       "      <td>14</td>\n",
       "      <td>0</td>\n",
       "      <td>1</td>\n",
       "    </tr>\n",
       "    <tr>\n",
       "      <th>3</th>\n",
       "      <td>8</td>\n",
       "      <td>0</td>\n",
       "      <td>1</td>\n",
       "    </tr>\n",
       "    <tr>\n",
       "      <th>4</th>\n",
       "      <td>9</td>\n",
       "      <td>0</td>\n",
       "      <td>2</td>\n",
       "    </tr>\n",
       "    <tr>\n",
       "      <th>5</th>\n",
       "      <td>12</td>\n",
       "      <td>0</td>\n",
       "      <td>2</td>\n",
       "    </tr>\n",
       "    <tr>\n",
       "      <th>6</th>\n",
       "      <td>10</td>\n",
       "      <td>0</td>\n",
       "      <td>2</td>\n",
       "    </tr>\n",
       "    <tr>\n",
       "      <th>7</th>\n",
       "      <td>20</td>\n",
       "      <td>0</td>\n",
       "      <td>2</td>\n",
       "    </tr>\n",
       "    <tr>\n",
       "      <th>8</th>\n",
       "      <td>7</td>\n",
       "      <td>0</td>\n",
       "      <td>7</td>\n",
       "    </tr>\n",
       "    <tr>\n",
       "      <th>9</th>\n",
       "      <td>6</td>\n",
       "      <td>0</td>\n",
       "      <td>9</td>\n",
       "    </tr>\n",
       "    <tr>\n",
       "      <th>10</th>\n",
       "      <td>5</td>\n",
       "      <td>0</td>\n",
       "      <td>23</td>\n",
       "    </tr>\n",
       "    <tr>\n",
       "      <th>11</th>\n",
       "      <td>4</td>\n",
       "      <td>0</td>\n",
       "      <td>59</td>\n",
       "    </tr>\n",
       "    <tr>\n",
       "      <th>12</th>\n",
       "      <td>3</td>\n",
       "      <td>0</td>\n",
       "      <td>180</td>\n",
       "    </tr>\n",
       "    <tr>\n",
       "      <th>13</th>\n",
       "      <td>2</td>\n",
       "      <td>0</td>\n",
       "      <td>1400</td>\n",
       "    </tr>\n",
       "    <tr>\n",
       "      <th>14</th>\n",
       "      <td>1</td>\n",
       "      <td>0</td>\n",
       "      <td>21368</td>\n",
       "    </tr>\n",
       "    <tr>\n",
       "      <th>15</th>\n",
       "      <td>0</td>\n",
       "      <td>0</td>\n",
       "      <td>1427957</td>\n",
       "    </tr>\n",
       "    <tr>\n",
       "      <th>16</th>\n",
       "      <td>9</td>\n",
       "      <td>1</td>\n",
       "      <td>1</td>\n",
       "    </tr>\n",
       "    <tr>\n",
       "      <th>17</th>\n",
       "      <td>6</td>\n",
       "      <td>1</td>\n",
       "      <td>2</td>\n",
       "    </tr>\n",
       "    <tr>\n",
       "      <th>18</th>\n",
       "      <td>5</td>\n",
       "      <td>1</td>\n",
       "      <td>5</td>\n",
       "    </tr>\n",
       "    <tr>\n",
       "      <th>19</th>\n",
       "      <td>4</td>\n",
       "      <td>1</td>\n",
       "      <td>15</td>\n",
       "    </tr>\n",
       "    <tr>\n",
       "      <th>20</th>\n",
       "      <td>3</td>\n",
       "      <td>1</td>\n",
       "      <td>44</td>\n",
       "    </tr>\n",
       "    <tr>\n",
       "      <th>21</th>\n",
       "      <td>2</td>\n",
       "      <td>1</td>\n",
       "      <td>407</td>\n",
       "    </tr>\n",
       "    <tr>\n",
       "      <th>22</th>\n",
       "      <td>1</td>\n",
       "      <td>1</td>\n",
       "      <td>5620</td>\n",
       "    </tr>\n",
       "    <tr>\n",
       "      <th>23</th>\n",
       "      <td>0</td>\n",
       "      <td>1</td>\n",
       "      <td>293316</td>\n",
       "    </tr>\n",
       "  </tbody>\n",
       "</table>\n",
       "</div>"
      ],
      "text/plain": [
       "    collections_12_mths_ex_med  is_default    count\n",
       "0                           11           0        1\n",
       "1                           16           0        1\n",
       "2                           14           0        1\n",
       "3                            8           0        1\n",
       "4                            9           0        2\n",
       "5                           12           0        2\n",
       "6                           10           0        2\n",
       "7                           20           0        2\n",
       "8                            7           0        7\n",
       "9                            6           0        9\n",
       "10                           5           0       23\n",
       "11                           4           0       59\n",
       "12                           3           0      180\n",
       "13                           2           0     1400\n",
       "14                           1           0    21368\n",
       "15                           0           0  1427957\n",
       "16                           9           1        1\n",
       "17                           6           1        2\n",
       "18                           5           1        5\n",
       "19                           4           1       15\n",
       "20                           3           1       44\n",
       "21                           2           1      407\n",
       "22                           1           1     5620\n",
       "23                           0           1   293316"
      ]
     },
     "execution_count": 27,
     "metadata": {},
     "output_type": "execute_result"
    }
   ],
   "source": [
    "df_labelled.groupBy('collections_12_mths_ex_med','is_default').count().orderBy('is_default','count').toPandas()"
   ]
  },
  {
   "cell_type": "code",
   "execution_count": 28,
   "id": "50f3f33c-038c-4869-a3f6-eff08f7e8d53",
   "metadata": {},
   "outputs": [
    {
     "name": "stderr",
     "output_type": "stream",
     "text": [
      "                                                                                \r"
     ]
    },
    {
     "data": {
      "image/png": "[encoded data removed]",
      "text/plain": [
       "<Figure size 432x288 with 1 Axes>"
      ]
     },
     "metadata": {
      "needs_background": "light"
     },
     "output_type": "display_data"
    }
   ],
   "source": [
    "pd_initial_list_status = df_labelled.groupBy('initial_list_status').count().toPandas()\n",
    "\n",
    "draw_plot(pd_initial_list_status, 'initial_list_status')"
   ]
  },
  {
   "cell_type": "code",
   "execution_count": 29,
   "id": "b764d83f-914b-47ff-8c89-6f840a8b8f1a",
   "metadata": {},
   "outputs": [
    {
     "name": "stderr",
     "output_type": "stream",
     "text": [
      "                                                                                \r"
     ]
    },
    {
     "data": {
      "text/html": [
       "<div>\n",
       "<style scoped>\n",
       "    .dataframe tbody tr th:only-of-type {\n",
       "        vertical-align: middle;\n",
       "    }\n",
       "\n",
       "    .dataframe tbody tr th {\n",
       "        vertical-align: top;\n",
       "    }\n",
       "\n",
       "    .dataframe thead th {\n",
       "        text-align: right;\n",
       "    }\n",
       "</style>\n",
       "<table border=\"1\" class=\"dataframe\">\n",
       "  <thead>\n",
       "    <tr style=\"text-align: right;\">\n",
       "      <th></th>\n",
       "      <th>initial_list_status</th>\n",
       "      <th>is_default</th>\n",
       "      <th>count</th>\n",
       "    </tr>\n",
       "  </thead>\n",
       "  <tbody>\n",
       "    <tr>\n",
       "      <th>0</th>\n",
       "      <td>f</td>\n",
       "      <td>1</td>\n",
       "      <td>116951</td>\n",
       "    </tr>\n",
       "    <tr>\n",
       "      <th>1</th>\n",
       "      <td>w</td>\n",
       "      <td>0</td>\n",
       "      <td>915703</td>\n",
       "    </tr>\n",
       "    <tr>\n",
       "      <th>2</th>\n",
       "      <td>f</td>\n",
       "      <td>0</td>\n",
       "      <td>535312</td>\n",
       "    </tr>\n",
       "    <tr>\n",
       "      <th>3</th>\n",
       "      <td>w</td>\n",
       "      <td>1</td>\n",
       "      <td>182459</td>\n",
       "    </tr>\n",
       "  </tbody>\n",
       "</table>\n",
       "</div>"
      ],
      "text/plain": [
       "  initial_list_status  is_default   count\n",
       "0                   f           1  116951\n",
       "1                   w           0  915703\n",
       "2                   f           0  535312\n",
       "3                   w           1  182459"
      ]
     },
     "execution_count": 29,
     "metadata": {},
     "output_type": "execute_result"
    }
   ],
   "source": [
    "df_labelled.groupBy('initial_list_status','is_default').count().toPandas()"
   ]
  },
  {
   "cell_type": "code",
   "execution_count": 30,
   "id": "2ba8d263-8af5-4628-8baa-710b27b96b1c",
   "metadata": {},
   "outputs": [
    {
     "name": "stderr",
     "output_type": "stream",
     "text": [
      "                                                                                \r"
     ]
    },
    {
     "data": {
      "text/plain": [
       "148"
      ]
     },
     "execution_count": 30,
     "metadata": {},
     "output_type": "execute_result"
    }
   ],
   "source": [
    "df_labelled.select('total_acc').distinct().count()"
   ]
  },
  {
   "cell_type": "code",
   "execution_count": 31,
   "id": "2d96ca56-8346-4bdd-9b23-92d416757b21",
   "metadata": {},
   "outputs": [
    {
     "name": "stderr",
     "output_type": "stream",
     "text": [
      "[Stage 488:=====================================================> (33 + 1) / 34]\r"
     ]
    },
    {
     "name": "stdout",
     "output_type": "stream",
     "text": [
      "+----------------+\n",
      "|earliest_cr_line|\n",
      "+----------------+\n",
      "|        Oct-1994|\n",
      "|        Nov-2000|\n",
      "|        Nov-1987|\n",
      "|        Dec-1999|\n",
      "|        Aug-2006|\n",
      "+----------------+\n",
      "only showing top 5 rows\n",
      "\n"
     ]
    },
    {
     "name": "stderr",
     "output_type": "stream",
     "text": [
      "                                                                                \r"
     ]
    }
   ],
   "source": [
    "df_labelled.select('earliest_cr_line').distinct().show(5)"
   ]
  },
  {
   "cell_type": "code",
   "execution_count": 32,
   "id": "45c6f79a-761d-4bdd-ae41-a4e119599b5c",
   "metadata": {},
   "outputs": [
    {
     "name": "stderr",
     "output_type": "stream",
     "text": [
      "                                                                                \r"
     ]
    },
    {
     "data": {
      "text/plain": [
       "738"
      ]
     },
     "execution_count": 32,
     "metadata": {},
     "output_type": "execute_result"
    }
   ],
   "source": [
    "df_labelled.select('earliest_cr_line').distinct().count()"
   ]
  },
  {
   "cell_type": "code",
   "execution_count": 33,
   "id": "a6cba68a-78d4-4455-87f8-30698daef99d",
   "metadata": {},
   "outputs": [
    {
     "name": "stderr",
     "output_type": "stream",
     "text": [
      "                                                                                \r"
     ]
    },
    {
     "data": {
      "image/png": "[encoded data removed]",
      "text/plain": [
       "<Figure size 432x288 with 1 Axes>"
      ]
     },
     "metadata": {
      "needs_background": "light"
     },
     "output_type": "display_data"
    }
   ],
   "source": [
    "pd_purpose = df_labelled.groupBy('purpose').count().toPandas()\n",
    "\n",
    "draw_plot(pd_purpose, 'purpose')"
   ]
  },
  {
   "cell_type": "code",
   "execution_count": 34,
   "id": "9442f530-7629-4c21-8423-e8dc6579207f",
   "metadata": {},
   "outputs": [
    {
     "name": "stderr",
     "output_type": "stream",
     "text": [
      "                                                                                \r"
     ]
    },
    {
     "data": {
      "text/html": [
       "<div>\n",
       "<style scoped>\n",
       "    .dataframe tbody tr th:only-of-type {\n",
       "        vertical-align: middle;\n",
       "    }\n",
       "\n",
       "    .dataframe tbody tr th {\n",
       "        vertical-align: top;\n",
       "    }\n",
       "\n",
       "    .dataframe thead th {\n",
       "        text-align: right;\n",
       "    }\n",
       "</style>\n",
       "<table border=\"1\" class=\"dataframe\">\n",
       "  <thead>\n",
       "    <tr style=\"text-align: right;\">\n",
       "      <th></th>\n",
       "      <th>purpose</th>\n",
       "      <th>is_default</th>\n",
       "      <th>count</th>\n",
       "    </tr>\n",
       "  </thead>\n",
       "  <tbody>\n",
       "    <tr>\n",
       "      <th>0</th>\n",
       "      <td>car</td>\n",
       "      <td>0</td>\n",
       "      <td>16518</td>\n",
       "    </tr>\n",
       "    <tr>\n",
       "      <th>1</th>\n",
       "      <td>car</td>\n",
       "      <td>1</td>\n",
       "      <td>2349</td>\n",
       "    </tr>\n",
       "    <tr>\n",
       "      <th>2</th>\n",
       "      <td>credit_card</td>\n",
       "      <td>0</td>\n",
       "      <td>330308</td>\n",
       "    </tr>\n",
       "    <tr>\n",
       "      <th>3</th>\n",
       "      <td>credit_card</td>\n",
       "      <td>1</td>\n",
       "      <td>56419</td>\n",
       "    </tr>\n",
       "    <tr>\n",
       "      <th>4</th>\n",
       "      <td>debt_consolidation</td>\n",
       "      <td>0</td>\n",
       "      <td>825410</td>\n",
       "    </tr>\n",
       "    <tr>\n",
       "      <th>5</th>\n",
       "      <td>debt_consolidation</td>\n",
       "      <td>1</td>\n",
       "      <td>184453</td>\n",
       "    </tr>\n",
       "    <tr>\n",
       "      <th>6</th>\n",
       "      <td>educational</td>\n",
       "      <td>0</td>\n",
       "      <td>314</td>\n",
       "    </tr>\n",
       "    <tr>\n",
       "      <th>7</th>\n",
       "      <td>educational</td>\n",
       "      <td>1</td>\n",
       "      <td>50</td>\n",
       "    </tr>\n",
       "    <tr>\n",
       "      <th>8</th>\n",
       "      <td>home_improvement</td>\n",
       "      <td>0</td>\n",
       "      <td>99127</td>\n",
       "    </tr>\n",
       "    <tr>\n",
       "      <th>9</th>\n",
       "      <td>home_improvement</td>\n",
       "      <td>1</td>\n",
       "      <td>17411</td>\n",
       "    </tr>\n",
       "    <tr>\n",
       "      <th>10</th>\n",
       "      <td>house</td>\n",
       "      <td>0</td>\n",
       "      <td>6963</td>\n",
       "    </tr>\n",
       "    <tr>\n",
       "      <th>11</th>\n",
       "      <td>house</td>\n",
       "      <td>1</td>\n",
       "      <td>1645</td>\n",
       "    </tr>\n",
       "    <tr>\n",
       "      <th>12</th>\n",
       "      <td>major_purchase</td>\n",
       "      <td>0</td>\n",
       "      <td>32400</td>\n",
       "    </tr>\n",
       "    <tr>\n",
       "      <th>13</th>\n",
       "      <td>major_purchase</td>\n",
       "      <td>1</td>\n",
       "      <td>6011</td>\n",
       "    </tr>\n",
       "    <tr>\n",
       "      <th>14</th>\n",
       "      <td>medical</td>\n",
       "      <td>0</td>\n",
       "      <td>16978</td>\n",
       "    </tr>\n",
       "    <tr>\n",
       "      <th>15</th>\n",
       "      <td>medical</td>\n",
       "      <td>1</td>\n",
       "      <td>3620</td>\n",
       "    </tr>\n",
       "    <tr>\n",
       "      <th>16</th>\n",
       "      <td>moving</td>\n",
       "      <td>0</td>\n",
       "      <td>9772</td>\n",
       "    </tr>\n",
       "    <tr>\n",
       "      <th>17</th>\n",
       "      <td>moving</td>\n",
       "      <td>1</td>\n",
       "      <td>2371</td>\n",
       "    </tr>\n",
       "    <tr>\n",
       "      <th>18</th>\n",
       "      <td>other</td>\n",
       "      <td>0</td>\n",
       "      <td>85314</td>\n",
       "    </tr>\n",
       "    <tr>\n",
       "      <th>19</th>\n",
       "      <td>other</td>\n",
       "      <td>1</td>\n",
       "      <td>17779</td>\n",
       "    </tr>\n",
       "    <tr>\n",
       "      <th>20</th>\n",
       "      <td>renewable_energy</td>\n",
       "      <td>0</td>\n",
       "      <td>928</td>\n",
       "    </tr>\n",
       "    <tr>\n",
       "      <th>21</th>\n",
       "      <td>renewable_energy</td>\n",
       "      <td>1</td>\n",
       "      <td>223</td>\n",
       "    </tr>\n",
       "    <tr>\n",
       "      <th>22</th>\n",
       "      <td>small_business</td>\n",
       "      <td>0</td>\n",
       "      <td>14950</td>\n",
       "    </tr>\n",
       "    <tr>\n",
       "      <th>23</th>\n",
       "      <td>small_business</td>\n",
       "      <td>1</td>\n",
       "      <td>4890</td>\n",
       "    </tr>\n",
       "    <tr>\n",
       "      <th>24</th>\n",
       "      <td>vacation</td>\n",
       "      <td>0</td>\n",
       "      <td>9985</td>\n",
       "    </tr>\n",
       "    <tr>\n",
       "      <th>25</th>\n",
       "      <td>vacation</td>\n",
       "      <td>1</td>\n",
       "      <td>1926</td>\n",
       "    </tr>\n",
       "    <tr>\n",
       "      <th>26</th>\n",
       "      <td>wedding</td>\n",
       "      <td>0</td>\n",
       "      <td>2048</td>\n",
       "    </tr>\n",
       "    <tr>\n",
       "      <th>27</th>\n",
       "      <td>wedding</td>\n",
       "      <td>1</td>\n",
       "      <td>263</td>\n",
       "    </tr>\n",
       "  </tbody>\n",
       "</table>\n",
       "</div>"
      ],
      "text/plain": [
       "               purpose  is_default   count\n",
       "0                  car           0   16518\n",
       "1                  car           1    2349\n",
       "2          credit_card           0  330308\n",
       "3          credit_card           1   56419\n",
       "4   debt_consolidation           0  825410\n",
       "5   debt_consolidation           1  184453\n",
       "6          educational           0     314\n",
       "7          educational           1      50\n",
       "8     home_improvement           0   99127\n",
       "9     home_improvement           1   17411\n",
       "10               house           0    6963\n",
       "11               house           1    1645\n",
       "12      major_purchase           0   32400\n",
       "13      major_purchase           1    6011\n",
       "14             medical           0   16978\n",
       "15             medical           1    3620\n",
       "16              moving           0    9772\n",
       "17              moving           1    2371\n",
       "18               other           0   85314\n",
       "19               other           1   17779\n",
       "20    renewable_energy           0     928\n",
       "21    renewable_energy           1     223\n",
       "22      small_business           0   14950\n",
       "23      small_business           1    4890\n",
       "24            vacation           0    9985\n",
       "25            vacation           1    1926\n",
       "26             wedding           0    2048\n",
       "27             wedding           1     263"
      ]
     },
     "execution_count": 34,
     "metadata": {},
     "output_type": "execute_result"
    }
   ],
   "source": [
    "df_labelled.groupBy('purpose','is_default').count().orderBy('purpose','is_default').toPandas()"
   ]
  },
  {
   "cell_type": "code",
   "execution_count": 35,
   "id": "e2ff8fa0-8526-4462-ad34-eae9de8656b9",
   "metadata": {},
   "outputs": [
    {
     "name": "stderr",
     "output_type": "stream",
     "text": [
      "                                                                                \r"
     ]
    },
    {
     "data": {
      "text/html": [
       "<div>\n",
       "<style scoped>\n",
       "    .dataframe tbody tr th:only-of-type {\n",
       "        vertical-align: middle;\n",
       "    }\n",
       "\n",
       "    .dataframe tbody tr th {\n",
       "        vertical-align: top;\n",
       "    }\n",
       "\n",
       "    .dataframe thead th {\n",
       "        text-align: right;\n",
       "    }\n",
       "</style>\n",
       "<table border=\"1\" class=\"dataframe\">\n",
       "  <thead>\n",
       "    <tr style=\"text-align: right;\">\n",
       "      <th></th>\n",
       "      <th>loan_status</th>\n",
       "      <th>is_default</th>\n",
       "      <th>count</th>\n",
       "    </tr>\n",
       "  </thead>\n",
       "  <tbody>\n",
       "    <tr>\n",
       "      <th>0</th>\n",
       "      <td>Charged Off</td>\n",
       "      <td>1</td>\n",
       "      <td>299185</td>\n",
       "    </tr>\n",
       "    <tr>\n",
       "      <th>1</th>\n",
       "      <td>Current</td>\n",
       "      <td>0</td>\n",
       "      <td>166791</td>\n",
       "    </tr>\n",
       "    <tr>\n",
       "      <th>2</th>\n",
       "      <td>Default</td>\n",
       "      <td>1</td>\n",
       "      <td>225</td>\n",
       "    </tr>\n",
       "    <tr>\n",
       "      <th>3</th>\n",
       "      <td>Does not meet the credit policy. Status:Charge...</td>\n",
       "      <td>0</td>\n",
       "      <td>534</td>\n",
       "    </tr>\n",
       "    <tr>\n",
       "      <th>4</th>\n",
       "      <td>Does not meet the credit policy. Status:Fully ...</td>\n",
       "      <td>0</td>\n",
       "      <td>1526</td>\n",
       "    </tr>\n",
       "    <tr>\n",
       "      <th>5</th>\n",
       "      <td>Fully Paid</td>\n",
       "      <td>0</td>\n",
       "      <td>1276946</td>\n",
       "    </tr>\n",
       "    <tr>\n",
       "      <th>6</th>\n",
       "      <td>In Grace Period</td>\n",
       "      <td>0</td>\n",
       "      <td>1820</td>\n",
       "    </tr>\n",
       "    <tr>\n",
       "      <th>7</th>\n",
       "      <td>Late (16-30 days)</td>\n",
       "      <td>0</td>\n",
       "      <td>517</td>\n",
       "    </tr>\n",
       "    <tr>\n",
       "      <th>8</th>\n",
       "      <td>Late (31-120 days)</td>\n",
       "      <td>0</td>\n",
       "      <td>2881</td>\n",
       "    </tr>\n",
       "  </tbody>\n",
       "</table>\n",
       "</div>"
      ],
      "text/plain": [
       "                                         loan_status  is_default    count\n",
       "0                                        Charged Off           1   299185\n",
       "1                                            Current           0   166791\n",
       "2                                            Default           1      225\n",
       "3  Does not meet the credit policy. Status:Charge...           0      534\n",
       "4  Does not meet the credit policy. Status:Fully ...           0     1526\n",
       "5                                         Fully Paid           0  1276946\n",
       "6                                    In Grace Period           0     1820\n",
       "7                                  Late (16-30 days)           0      517\n",
       "8                                 Late (31-120 days)           0     2881"
      ]
     },
     "execution_count": 35,
     "metadata": {},
     "output_type": "execute_result"
    }
   ],
   "source": [
    "df_labelled.groupBy('loan_status','is_default').count().orderBy('loan_status','is_default').toPandas()"
   ]
  },
  {
   "cell_type": "markdown",
   "id": "d342f82c-eb3c-4d9d-ae64-eb1f4239bec6",
   "metadata": {},
   "source": [
    "## Select features for basic model\n",
    "<a id='feature_selection'></a>"
   ]
  },
  {
   "cell_type": "markdown",
   "id": "54e4c9cc-7579-492b-b39f-39a57371861b",
   "metadata": {},
   "source": [
    "drop_cols = ['issue_mth','issue_year','issue_d','debt_settlement_flag','hardship_flag','tax_liens','pub_rec_bankruptcies','chargeoff_within_12_mths','policy_code',\n",
    "             'last_fico_range_low','last_fico_range_high','last_credit_pull_d','last_pymnt_amnt','last_pymnt_d','collection_recovery_fee','recoveries','initial_list_status',\n",
    "             'pub_rec','open_acc','inq_last_6mths','fico_range_high','fico_range_low','delinq_2yrs','earliest_cr_line','addr_state','zip_code','url','pymnt_plan','sub_grade',\n",
    "             'installment','term','funded_amnt_inv','funded_amnt','id','_c0','out_prncp','out_prncp_inv','total_pymnt_inv']"
   ]
  },
  {
   "cell_type": "code",
   "execution_count": 86,
   "id": "1e356e44-6e0b-4850-8537-e175353b272f",
   "metadata": {},
   "outputs": [],
   "source": [
    "#df_final = df_labelled.drop(*drop_cols)\n",
    "df_final = df_labelled"
   ]
  },
  {
   "cell_type": "code",
   "execution_count": 87,
   "id": "7f88f7ae-0318-45c1-8f8c-34fc2c0cb940",
   "metadata": {},
   "outputs": [],
   "source": [
    "df_final = df_final.withColumn(\"int_rate\", F.expr(\"substring(int_rate, 1, length(int_rate)-1)\").cast('double'))"
   ]
  },
  {
   "cell_type": "code",
   "execution_count": 88,
   "id": "e341f6b5-46cc-447f-a94c-2d895fe3b096",
   "metadata": {},
   "outputs": [],
   "source": [
    "df_final = df_final.withColumn(\"revol_util\", F.expr(\"substring(revol_util, 1, length(revol_util)-1)\").cast('double'))"
   ]
  },
  {
   "cell_type": "code",
   "execution_count": 89,
   "id": "7911e377-0ec7-437a-881e-9f0ec5e010e9",
   "metadata": {},
   "outputs": [],
   "source": [
    "df_final = df_final.withColumn(\"annual_inc\", F.col('annual_inc').cast('double'))"
   ]
  },
  {
   "cell_type": "code",
   "execution_count": 90,
   "id": "3d347169-51d0-4063-ac6a-c286bfc7b9d5",
   "metadata": {},
   "outputs": [],
   "source": [
    "df_final = df_final.withColumn(\"dti\", F.col('dti').cast('double'))"
   ]
  },
  {
   "cell_type": "code",
   "execution_count": 91,
   "id": "35fc6baf-6af6-46d2-9f0e-b57704da5935",
   "metadata": {},
   "outputs": [],
   "source": [
    "df_final = df_final.withColumn(\"total_acc\", F.col('total_acc').cast('int'))"
   ]
  },
  {
   "cell_type": "code",
   "execution_count": 92,
   "id": "4801d6c7-2d40-4d02-af58-3f91b44e9337",
   "metadata": {},
   "outputs": [
    {
     "name": "stdout",
     "output_type": "stream",
     "text": [
      "root\n",
      " |-- loan_amnt: integer (nullable = true)\n",
      " |-- int_rate: double (nullable = true)\n",
      " |-- grade: string (nullable = true)\n",
      " |-- home_ownership: string (nullable = true)\n",
      " |-- annual_inc: double (nullable = true)\n",
      " |-- verification_status: string (nullable = true)\n",
      " |-- purpose: string (nullable = true)\n",
      " |-- dti: double (nullable = true)\n",
      " |-- revol_bal: integer (nullable = true)\n",
      " |-- revol_util: double (nullable = true)\n",
      " |-- total_acc: integer (nullable = true)\n",
      " |-- total_pymnt: double (nullable = true)\n",
      " |-- total_rec_prncp: double (nullable = true)\n",
      " |-- total_rec_int: double (nullable = true)\n",
      " |-- total_rec_late_fee: double (nullable = true)\n",
      " |-- collections_12_mths_ex_med: integer (nullable = true)\n",
      " |-- application_type: string (nullable = true)\n",
      " |-- acc_now_delinq: integer (nullable = true)\n",
      " |-- tot_coll_amt: integer (nullable = true)\n",
      " |-- tot_cur_bal: integer (nullable = true)\n",
      " |-- total_rev_hi_lim: integer (nullable = true)\n",
      " |-- acc_open_past_24mths: integer (nullable = true)\n",
      " |-- avg_cur_bal: integer (nullable = true)\n",
      " |-- delinq_amnt: integer (nullable = true)\n",
      " |-- is_default: integer (nullable = false)\n",
      "\n"
     ]
    }
   ],
   "source": [
    "df_final.printSchema()"
   ]
  },
  {
   "cell_type": "code",
   "execution_count": 93,
   "id": "830c2e2b-5bb9-4ff0-a447-eadcc2b9d756",
   "metadata": {},
   "outputs": [
    {
     "name": "stdout",
     "output_type": "stream",
     "text": [
      "+---------+--------+-----+--------------+----------+-------------------+------------------+-----+---------+----------+---------+----------------+---------------+-------------+------------------+--------------------------+----------------+--------------+------------+-----------+----------------+--------------------+-----------+-----------+----------+\n",
      "|loan_amnt|int_rate|grade|home_ownership|annual_inc|verification_status|           purpose|  dti|revol_bal|revol_util|total_acc|     total_pymnt|total_rec_prncp|total_rec_int|total_rec_late_fee|collections_12_mths_ex_med|application_type|acc_now_delinq|tot_coll_amt|tot_cur_bal|total_rev_hi_lim|acc_open_past_24mths|avg_cur_bal|delinq_amnt|is_default|\n",
      "+---------+--------+-----+--------------+----------+-------------------+------------------+-----+---------+----------+---------+----------------+---------------+-------------+------------------+--------------------------+----------------+--------------+------------+-----------+----------------+--------------------+-----------+-----------+----------+\n",
      "|    12500|    7.39|    A|          RENT|   85000.0|       Not Verified|       credit_card| 19.6|     5346|      10.5|       37|         8234.13|         6303.6|      1930.53|               0.0|                         0|      Individual|             0|         176|      70624|           51000|                   5|       4154|          0|         1|\n",
      "|    40000|    7.89|    A|      MORTGAGE|   80500.0|           Verified|  home_improvement| 3.74|      414|       2.5|       16|        39603.97|       31443.89|      8160.08|               0.0|                         0|      Individual|             0|           0|       8354|           16800|                   0|       1193|          0|         0|\n",
      "|    20000|    9.75|    B|      MORTGAGE|   62000.0|           Verified|debt_consolidation|33.72|    36319|      75.0|       36|23067.2267604886|        20000.0|      3067.23|               0.0|                         0|      Individual|             0|           0|     196040|           48700|                   5|      14002|          0|         0|\n",
      "|     7200|    5.32|    A|      MORTGAGE|   49000.0|    Source Verified|debt_consolidation|19.05|     9309|      18.4|       36|         7223.41|         7200.0|        23.41|               0.0|                         0|      Individual|             0|           0|      33681|           50600|                   5|       3062|          0|         0|\n",
      "|    32000|    6.97|    A|           OWN|  156000.0|           Verified|  home_improvement| 5.25|     3611|      23.6|       13|35337.4210393186|        32000.0|      3337.42|               0.0|                         0|      Individual|             0|           0|      12952|           15300|                   3|       2590|          0|         0|\n",
      "+---------+--------+-----+--------------+----------+-------------------+------------------+-----+---------+----------+---------+----------------+---------------+-------------+------------------+--------------------------+----------------+--------------+------------+-----------+----------------+--------------------+-----------+-----------+----------+\n",
      "only showing top 5 rows\n",
      "\n"
     ]
    }
   ],
   "source": [
    "df_final.show(5)"
   ]
  },
  {
   "cell_type": "markdown",
   "id": "09a82159-cf9a-4781-9f66-3b37f3add9ed",
   "metadata": {},
   "source": [
    "# Baseline Model"
   ]
  },
  {
   "cell_type": "code",
   "execution_count": 94,
   "id": "e42c08be-c2a3-420d-ac45-216decce65b7",
   "metadata": {},
   "outputs": [],
   "source": [
    "from pyspark.ml.feature import VectorAssembler, StandardScaler\n",
    "from pyspark.ml import Pipeline\n",
    "from pyspark.ml.linalg import DenseVector\n",
    "from pyspark.ml.classification import LinearSVC\n",
    "from pyspark.ml.feature import OneHotEncoder, StringIndexer"
   ]
  },
  {
   "cell_type": "code",
   "execution_count": 95,
   "id": "c9f8c1a3-0819-4bf9-a897-85d903b1d2ab",
   "metadata": {},
   "outputs": [],
   "source": [
    "def vectorize_cat_cols(df, cat_features):\n",
    "    idx_cols = [column+\"_index\" for column in cat_features]\n",
    "    enc_cols = [idx_column+\"_vec\" for idx_column in idx_cols]\n",
    "    indexers = StringIndexer(inputCols=cat_features, outputCols=idx_cols)\n",
    "    encoders = OneHotEncoder(inputCols=idx_cols, outputCols=enc_cols, dropLast=False)\n",
    "    pipeline = Pipeline(stages=[indexers, encoders])\n",
    "    df_r = pipeline.fit(df).transform(df)\n",
    "    df_r = df_r.drop(*idx_cols)\n",
    "    #df_r.select(*cat_features, *enc_cols).toPandas()\n",
    "    return df_r\n",
    "    "
   ]
  },
  {
   "cell_type": "code",
   "execution_count": 96,
   "id": "c644a701-6a61-457c-a155-9d6c0bccf658",
   "metadata": {},
   "outputs": [],
   "source": [
    "# Standard Scaler\n",
    "def make_pipeline_numeric(spark_df):\n",
    "    stages= []\n",
    "\n",
    "    scale_cols = spark_df.columns\n",
    "    scale_cols.remove('is_default')\n",
    "\n",
    "    #Assembling mixed data type transformations:\n",
    "    assembler = VectorAssembler(inputCols=scale_cols, outputCol=\"features\")\n",
    "    stages += [assembler]\n",
    "\n",
    "    #Standard scaler\n",
    "    scaler = StandardScaler(inputCol=\"features\", outputCol=\"scaledFeatures\",\n",
    "                        withStd=True, withMean=True)\n",
    "    stages += [scaler]\n",
    "\n",
    "    #Creating and running the pipeline:\n",
    "    pipeline = Pipeline(stages=stages)\n",
    "    pipelineModel = pipeline.fit(spark_df)\n",
    "    out_df = pipelineModel.transform(spark_df)\n",
    "\n",
    "    return out_df"
   ]
  },
  {
   "cell_type": "code",
   "execution_count": 97,
   "id": "6cee6a23-d511-4d55-8441-fce519225318",
   "metadata": {},
   "outputs": [],
   "source": [
    "cat_cols = [item[0] for item in df_final.dtypes if item[1].startswith('string')]\n",
    "num_cols = [item[0] for item in df_final.dtypes if item[1].startswith('in') or item[1].startswith('dou')]\n",
    "num_features, cat_features = num_cols, cat_cols"
   ]
  },
  {
   "cell_type": "code",
   "execution_count": 98,
   "id": "23fdcd87-e72a-41b6-8e86-718a0709a012",
   "metadata": {},
   "outputs": [
    {
     "data": {
      "text/plain": [
       "['grade',\n",
       " 'home_ownership',\n",
       " 'verification_status',\n",
       " 'purpose',\n",
       " 'application_type']"
      ]
     },
     "execution_count": 98,
     "metadata": {},
     "output_type": "execute_result"
    }
   ],
   "source": [
    "cat_cols"
   ]
  },
  {
   "cell_type": "code",
   "execution_count": 99,
   "id": "b9f74e66-aa02-4148-a97b-e92e3080e929",
   "metadata": {},
   "outputs": [
    {
     "data": {
      "text/plain": [
       "['loan_amnt',\n",
       " 'int_rate',\n",
       " 'annual_inc',\n",
       " 'dti',\n",
       " 'revol_bal',\n",
       " 'revol_util',\n",
       " 'total_acc',\n",
       " 'total_pymnt',\n",
       " 'total_rec_prncp',\n",
       " 'total_rec_int',\n",
       " 'total_rec_late_fee',\n",
       " 'collections_12_mths_ex_med',\n",
       " 'acc_now_delinq',\n",
       " 'tot_coll_amt',\n",
       " 'tot_cur_bal',\n",
       " 'total_rev_hi_lim',\n",
       " 'acc_open_past_24mths',\n",
       " 'avg_cur_bal',\n",
       " 'delinq_amnt',\n",
       " 'is_default']"
      ]
     },
     "execution_count": 99,
     "metadata": {},
     "output_type": "execute_result"
    }
   ],
   "source": [
    "num_cols"
   ]
  },
  {
   "cell_type": "markdown",
   "id": "57ac8cf9-30f1-457b-9c56-8c3cc887ca35",
   "metadata": {},
   "source": [
    "### Train test split"
   ]
  },
  {
   "cell_type": "code",
   "execution_count": 100,
   "id": "da98477b-04ec-459e-b688-c7d642a24fd2",
   "metadata": {},
   "outputs": [],
   "source": [
    "train = df_final.sampleBy(\"is_default\", fractions={0: 0.6, 1: 0.6}, seed=10)"
   ]
  },
  {
   "cell_type": "code",
   "execution_count": 101,
   "id": "2735c2c0-91a7-43b3-97fc-4ceb0944a8c1",
   "metadata": {},
   "outputs": [],
   "source": [
    "test = df_final.subtract(train)"
   ]
  },
  {
   "cell_type": "markdown",
   "id": "ef432d2e-3da1-4c01-97fa-263dfa6db90c",
   "metadata": {},
   "source": [
    "### Feature Engineering"
   ]
  },
  {
   "cell_type": "code",
   "execution_count": 102,
   "id": "1ba4f925-61cd-4068-8f68-9a93b6eaa9d4",
   "metadata": {},
   "outputs": [
    {
     "name": "stderr",
     "output_type": "stream",
     "text": [
      "[Stage 49:==============================================>           (4 + 1) / 5]\r"
     ]
    },
    {
     "name": "stdout",
     "output_type": "stream",
     "text": [
      "CPU times: user 25.3 ms, sys: 3.81 ms, total: 29.1 ms\n",
      "Wall time: 7.19 s\n"
     ]
    },
    {
     "name": "stderr",
     "output_type": "stream",
     "text": [
      "                                                                                \r"
     ]
    }
   ],
   "source": [
    "%time df_train_vec = vectorize_cat_cols(train, cat_features)"
   ]
  },
  {
   "cell_type": "code",
   "execution_count": 103,
   "id": "c87844e7-3b7c-46fb-96b9-0a9e8421bb79",
   "metadata": {},
   "outputs": [],
   "source": [
    "df_train_vec = df_train_vec.drop(*cat_features)"
   ]
  },
  {
   "cell_type": "code",
   "execution_count": 104,
   "id": "5b58eda5-7834-4b00-b3ce-5799f1858bf2",
   "metadata": {},
   "outputs": [
    {
     "name": "stdout",
     "output_type": "stream",
     "text": [
      "root\n",
      " |-- loan_amnt: integer (nullable = true)\n",
      " |-- int_rate: double (nullable = true)\n",
      " |-- annual_inc: double (nullable = true)\n",
      " |-- dti: double (nullable = true)\n",
      " |-- revol_bal: integer (nullable = true)\n",
      " |-- revol_util: double (nullable = true)\n",
      " |-- total_acc: integer (nullable = true)\n",
      " |-- total_pymnt: double (nullable = true)\n",
      " |-- total_rec_prncp: double (nullable = true)\n",
      " |-- total_rec_int: double (nullable = true)\n",
      " |-- total_rec_late_fee: double (nullable = true)\n",
      " |-- collections_12_mths_ex_med: integer (nullable = true)\n",
      " |-- acc_now_delinq: integer (nullable = true)\n",
      " |-- tot_coll_amt: integer (nullable = true)\n",
      " |-- tot_cur_bal: integer (nullable = true)\n",
      " |-- total_rev_hi_lim: integer (nullable = true)\n",
      " |-- acc_open_past_24mths: integer (nullable = true)\n",
      " |-- avg_cur_bal: integer (nullable = true)\n",
      " |-- delinq_amnt: integer (nullable = true)\n",
      " |-- is_default: integer (nullable = false)\n",
      " |-- grade_index_vec: vector (nullable = true)\n",
      " |-- home_ownership_index_vec: vector (nullable = true)\n",
      " |-- verification_status_index_vec: vector (nullable = true)\n",
      " |-- purpose_index_vec: vector (nullable = true)\n",
      " |-- application_type_index_vec: vector (nullable = true)\n",
      "\n"
     ]
    }
   ],
   "source": [
    "df_train_vec.printSchema()"
   ]
  },
  {
   "cell_type": "markdown",
   "id": "7a330e8b-9981-4638-b890-496f53b21225",
   "metadata": {},
   "source": [
    "#### Moving label column to the end"
   ]
  },
  {
   "cell_type": "code",
   "execution_count": 105,
   "id": "44121421-a7e1-485a-95b1-0db0af781032",
   "metadata": {},
   "outputs": [],
   "source": [
    "cols = df_train_vec.columns"
   ]
  },
  {
   "cell_type": "code",
   "execution_count": 106,
   "id": "ca6be0ed-45e8-4eab-b1da-0bd507bcfa19",
   "metadata": {},
   "outputs": [
    {
     "name": "stdout",
     "output_type": "stream",
     "text": [
      "['loan_amnt', 'int_rate', 'annual_inc', 'dti', 'revol_bal', 'revol_util', 'total_acc', 'total_pymnt', 'total_rec_prncp', 'total_rec_int', 'total_rec_late_fee', 'collections_12_mths_ex_med', 'acc_now_delinq', 'tot_coll_amt', 'tot_cur_bal', 'total_rev_hi_lim', 'acc_open_past_24mths', 'avg_cur_bal', 'delinq_amnt', 'grade_index_vec', 'home_ownership_index_vec', 'verification_status_index_vec', 'purpose_index_vec', 'application_type_index_vec']\n"
     ]
    }
   ],
   "source": [
    "cols.remove('is_default')\n",
    "print(cols)"
   ]
  },
  {
   "cell_type": "code",
   "execution_count": 107,
   "id": "21143322-f13f-457f-ae23-01e225d5698e",
   "metadata": {},
   "outputs": [],
   "source": [
    "df_train_vec = df_train_vec.select(*cols, 'is_default')"
   ]
  },
  {
   "cell_type": "code",
   "execution_count": 41,
   "id": "c02f469e-c753-428d-8152-6c9db472cda7",
   "metadata": {},
   "outputs": [
    {
     "name": "stderr",
     "output_type": "stream",
     "text": [
      "                                                                                \r"
     ]
    }
   ],
   "source": [
    "#df_train = make_pipeline_numeric(df_train_vec)"
   ]
  },
  {
   "cell_type": "code",
   "execution_count": 108,
   "id": "0210c975-62cc-4c40-b32b-54cd5e62c7b3",
   "metadata": {},
   "outputs": [
    {
     "name": "stdout",
     "output_type": "stream",
     "text": [
      "root\n",
      " |-- loan_amnt: integer (nullable = true)\n",
      " |-- int_rate: double (nullable = true)\n",
      " |-- annual_inc: double (nullable = true)\n",
      " |-- dti: double (nullable = true)\n",
      " |-- revol_bal: integer (nullable = true)\n",
      " |-- revol_util: double (nullable = true)\n",
      " |-- total_acc: integer (nullable = true)\n",
      " |-- total_pymnt: double (nullable = true)\n",
      " |-- total_rec_prncp: double (nullable = true)\n",
      " |-- total_rec_int: double (nullable = true)\n",
      " |-- total_rec_late_fee: double (nullable = true)\n",
      " |-- collections_12_mths_ex_med: integer (nullable = true)\n",
      " |-- acc_now_delinq: integer (nullable = true)\n",
      " |-- tot_coll_amt: integer (nullable = true)\n",
      " |-- tot_cur_bal: integer (nullable = true)\n",
      " |-- total_rev_hi_lim: integer (nullable = true)\n",
      " |-- acc_open_past_24mths: integer (nullable = true)\n",
      " |-- avg_cur_bal: integer (nullable = true)\n",
      " |-- delinq_amnt: integer (nullable = true)\n",
      " |-- grade_index_vec: vector (nullable = true)\n",
      " |-- home_ownership_index_vec: vector (nullable = true)\n",
      " |-- verification_status_index_vec: vector (nullable = true)\n",
      " |-- purpose_index_vec: vector (nullable = true)\n",
      " |-- application_type_index_vec: vector (nullable = true)\n",
      " |-- is_default: integer (nullable = false)\n",
      "\n"
     ]
    }
   ],
   "source": [
    "df_train_vec.printSchema()"
   ]
  },
  {
   "cell_type": "code",
   "execution_count": 110,
   "id": "45f255d4-2c45-4c29-9a36-a1314fb6475a",
   "metadata": {},
   "outputs": [
    {
     "name": "stderr",
     "output_type": "stream",
     "text": [
      "[Stage 53:==============================================>           (4 + 1) / 5]\r"
     ]
    },
    {
     "name": "stdout",
     "output_type": "stream",
     "text": [
      "+----------+------+\n",
      "|is_default| count|\n",
      "+----------+------+\n",
      "|         1|172501|\n",
      "|         0|828205|\n",
      "+----------+------+\n",
      "\n"
     ]
    },
    {
     "name": "stderr",
     "output_type": "stream",
     "text": [
      "                                                                                \r"
     ]
    }
   ],
   "source": [
    "df_train_vec.groupBy('is_default').count().show(10)"
   ]
  },
  {
   "cell_type": "markdown",
   "id": "3a1f88c1-402f-436f-b3fc-b57fa807bb8b",
   "metadata": {},
   "source": [
    "## Model Training"
   ]
  },
  {
   "cell_type": "code",
   "execution_count": 111,
   "id": "5107bc8a-d2dc-4cc1-9227-938b3297b8bc",
   "metadata": {},
   "outputs": [],
   "source": [
    "from pyspark.ml.classification import RandomForestClassifier\n",
    "\n",
    "def make_pipeline(spark_df, label_col):        \n",
    "     \n",
    "    #for c in spark_df.columns:\n",
    "    #    spark_df = spark_df.withColumn(c, spark_df[c].cast(\"float\"))\n",
    "    \n",
    "    stages= []\n",
    "\n",
    "    #cols = ['acc_now_delinq', 'acc_open_past_24mths', 'annual_inc', 'avg_cur_bal', 'funded_amnt']\n",
    "    cols = spark_df.columns\n",
    "    cols.remove(label_col)\n",
    "    \n",
    "    #spark_df = spark_df.withColumn('acc_now_delinq',F.abs(spark_df['acc_now_delinq']))\n",
    "    #spark_df = spark_df.withColumn('acc_open_past_24mths',F.abs(spark_df['acc_open_past_24mths']))\n",
    "    #spark_df = spark_df.withColumn('annual_inc',F.abs(spark_df['annual_inc']))\n",
    "    #spark_df = spark_df.withColumn('avg_cur_bal',F.abs(spark_df['avg_cur_bal']))\n",
    "    #spark_df = spark_df.withColumn('funded_amnt',F.abs(spark_df['funded_amnt']))\n",
    "    \n",
    "    #Assembling mixed data type transformations:\n",
    "    assembler = VectorAssembler(inputCols=cols, outputCol=\"features\")\n",
    "    stages += [assembler]    \n",
    "    \n",
    "    #Scaling features\n",
    "    scaler = StandardScaler(inputCol=\"features\", outputCol=\"scaledFeatures\", withStd=True, withMean=True)\n",
    "    stages += [scaler]\n",
    "    \n",
    "    \n",
    "    #RF Classifier\n",
    "    #rf = LinearSVC(featuresCol='features', labelCol='is_default')\n",
    "    rf = RandomForestClassifier(labelCol=label_col, featuresCol='features', numTrees=10)\n",
    "    stages += [rf]\n",
    "    \n",
    "    #Creating and running the pipeline:\n",
    "    pipeline = Pipeline(stages=stages)\n",
    "    pipelineModel = pipeline.fit(spark_df)\n",
    "\n",
    "    return pipelineModel"
   ]
  },
  {
   "cell_type": "code",
   "execution_count": 112,
   "id": "5dc442d6-5697-4863-8b8d-01034144a61c",
   "metadata": {},
   "outputs": [
    {
     "name": "stderr",
     "output_type": "stream",
     "text": [
      "                                                                                \r"
     ]
    }
   ],
   "source": [
    "pipelineModel = make_pipeline(df_train_vec, 'is_default')"
   ]
  },
  {
   "cell_type": "markdown",
   "id": "1fc196e2-933c-4e73-bedd-2c7657bc89ca",
   "metadata": {},
   "source": [
    "## Model Evaluation"
   ]
  },
  {
   "cell_type": "code",
   "execution_count": 114,
   "id": "071ae441-bd71-468d-bbc8-70ab023fa34d",
   "metadata": {},
   "outputs": [
    {
     "name": "stderr",
     "output_type": "stream",
     "text": [
      "[Stage 76:=================(6 + -1) / 5][Stage 80:===>              (1 + 2) / 5]\r"
     ]
    }
   ],
   "source": [
    "df_test_vec = vectorize_cat_cols(test, cat_features)"
   ]
  },
  {
   "cell_type": "code",
   "execution_count": 115,
   "id": "884f30c4-0850-4096-92c5-465545d0f701",
   "metadata": {},
   "outputs": [],
   "source": [
    "test_cols = df_test_vec.columns"
   ]
  },
  {
   "cell_type": "code",
   "execution_count": 116,
   "id": "de80a40a-2aa2-43ed-aff2-c22dcd4e3bc3",
   "metadata": {},
   "outputs": [],
   "source": [
    "test_cols.remove('is_default')"
   ]
  },
  {
   "cell_type": "code",
   "execution_count": 117,
   "id": "6c8fef33-cbec-4516-9727-6c8fe53942a4",
   "metadata": {},
   "outputs": [],
   "source": [
    "df_test_vec = df_test_vec.select(*test_cols, 'is_default')"
   ]
  },
  {
   "cell_type": "code",
   "execution_count": 118,
   "id": "3860f28f-a208-4374-a116-dea597922c0f",
   "metadata": {},
   "outputs": [],
   "source": [
    "df_model_pred = pipelineModel.transform(df_test_vec)"
   ]
  },
  {
   "cell_type": "code",
   "execution_count": 119,
   "id": "584ea878-5fa8-4729-916f-025434dfac57",
   "metadata": {},
   "outputs": [
    {
     "name": "stderr",
     "output_type": "stream",
     "text": [
      "[Stage 76:=================(6 + -1) / 5][Stage 80:===>              (1 + 2) / 5]\r"
     ]
    },
    {
     "name": "stdout",
     "output_type": "stream",
     "text": [
      "+----------+----------+------+\n",
      "|is_default|prediction| count|\n",
      "+----------+----------+------+\n",
      "|         1|       0.0| 72544|\n",
      "|         0|       0.0|548881|\n",
      "|         1|       1.0| 42709|\n",
      "|         0|       1.0|  2443|\n",
      "+----------+----------+------+\n",
      "\n"
     ]
    },
    {
     "name": "stderr",
     "output_type": "stream",
     "text": [
      "[Stage 76:=========================================================(6 + -1) / 5]\r"
     ]
    }
   ],
   "source": [
    "df_model_pred.orderBy('is_default','prediction').groupBy('is_default','prediction').count().show()"
   ]
  },
  {
   "cell_type": "code",
   "execution_count": 120,
   "id": "bc289e73-a86d-4287-a5da-50c906a2e594",
   "metadata": {},
   "outputs": [],
   "source": [
    "from pyspark.ml.evaluation import BinaryClassificationEvaluator"
   ]
  },
  {
   "cell_type": "code",
   "execution_count": 121,
   "id": "c3edfe0c-a951-4769-90c9-5f2624d9f2f7",
   "metadata": {},
   "outputs": [],
   "source": [
    "evaluator = BinaryClassificationEvaluator(labelCol=\"is_default\", rawPredictionCol=\"prediction\")"
   ]
  },
  {
   "cell_type": "code",
   "execution_count": 122,
   "id": "4cf6abf0-5ac3-4b44-aae3-8d27eb1a9737",
   "metadata": {},
   "outputs": [
    {
     "name": "stderr",
     "output_type": "stream",
     "text": [
      "                                                                                \r"
     ]
    },
    {
     "name": "stdout",
     "output_type": "stream",
     "text": [
      "Area under ROC Curve: 0.6824\n",
      "Area under PR Curve: 0.7026\n"
     ]
    },
    {
     "name": "stderr",
     "output_type": "stream",
     "text": [
      "[Stage 76:=========================================================(6 + -1) / 5]\r"
     ]
    }
   ],
   "source": [
    "auroc = evaluator.evaluate(df_model_pred, {evaluator.metricName: \"areaUnderROC\"})\n",
    "auprc = evaluator.evaluate(df_model_pred, {evaluator.metricName: \"areaUnderPR\"})\n",
    "\n",
    "print(\"Area under ROC Curve: {:.4f}\".format(auroc))\n",
    "print(\"Area under PR Curve: {:.4f}\".format(auprc))"
   ]
  },
  {
   "cell_type": "code",
   "execution_count": 123,
   "id": "e84b8cd3-7224-4ed2-aba8-5bfb9b39f8c0",
   "metadata": {},
   "outputs": [
    {
     "name": "stderr",
     "output_type": "stream",
     "text": [
      "[Stage 76:=========================================================(6 + -1) / 5]\r"
     ]
    },
    {
     "name": "stdout",
     "output_type": "stream",
     "text": [
      "              precision    recall  f1-score   support\n",
      "\n",
      "           0       0.83      0.93      0.88    553472\n",
      "           1       0.17      0.07      0.10    115238\n",
      "\n",
      "    accuracy                           0.78    668710\n",
      "   macro avg       0.50      0.50      0.49    668710\n",
      "weighted avg       0.71      0.78      0.74    668710\n",
      "\n"
     ]
    }
   ],
   "source": [
    "y_true = df_model_pred.select(['is_default']).collect()\n",
    "y_pred = df_model_pred.select(['prediction']).collect()\n",
    "\n",
    "from sklearn.metrics import classification_report, confusion_matrix\n",
    "print(classification_report(y_true, y_pred))"
   ]
  },
  {
   "cell_type": "code",
   "execution_count": 124,
   "id": "387c2499-d75f-46b9-b8a6-0d6748cd557c",
   "metadata": {},
   "outputs": [
    {
     "name": "stderr",
     "output_type": "stream",
     "text": [
      "[Stage 76:=========================================================(6 + -1) / 5]\r"
     ]
    }
   ],
   "source": [
    "if auroc > 0.5:\n",
    "    pipelineModel.write().overwrite().save(os.environ[\"STORAGE\"]+\"/svadivel/pipeline/baseline/\")"
   ]
  },
  {
   "cell_type": "code",
   "execution_count": 125,
   "id": "98a279ca-0158-4add-b3de-68dc89c224cb",
   "metadata": {},
   "outputs": [],
   "source": [
    "spark.stop()"
   ]
  },
  {
   "cell_type": "code",
   "execution_count": null,
   "id": "05b4c9e4-86ff-46e4-a112-ee978cfa1718",
   "metadata": {},
   "outputs": [],
   "source": []
  }
 ],
 "metadata": {
  "kernelspec": {
   "display_name": "Python 3 (ipykernel)",
   "language": "python",
   "name": "python3"
  },
  "language_info": {
   "codemirror_mode": {
    "name": "ipython",
    "version": 3
   },
   "file_extension": ".py",
   "mimetype": "text/x-python",
   "name": "python",
   "nbconvert_exporter": "python",
   "pygments_lexer": "ipython3",
   "version": "3.7.13"
  }
 },
 "nbformat": 4,
 "nbformat_minor": 5
}
