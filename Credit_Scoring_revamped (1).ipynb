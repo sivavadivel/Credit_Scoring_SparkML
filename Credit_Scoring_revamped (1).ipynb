{
 "cells": [
  {
   "cell_type": "code",
   "execution_count": 1,
   "id": "568c4f62-7dd1-42e6-92eb-06071e8f5319",
   "metadata": {},
   "outputs": [],
   "source": [
    "# Importing libraries\n",
    "from pyspark.sql import SparkSession\n",
    "from pyspark.sql import functions as F\n",
    "import os\n",
    "import xml.etree.ElementTree as ET\n",
    "from cmlbootstrap import CMLBootstrap "
   ]
  },
  {
   "cell_type": "code",
   "execution_count": 2,
   "id": "f41046d6-d8b9-479e-a0f0-dd11b1d2a645",
   "metadata": {},
   "outputs": [],
   "source": [
    "from pyspark.ml.feature import VectorAssembler, StandardScaler\n",
    "from pyspark.ml import Pipeline\n",
    "from pyspark.ml.linalg import DenseVector\n",
    "from pyspark.ml.classification import LinearSVC"
   ]
  },
  {
   "cell_type": "code",
   "execution_count": 3,
   "id": "bf14b7fc-49ef-465c-9a9d-94e81c419bf4",
   "metadata": {},
   "outputs": [
    {
     "name": "stdout",
     "output_type": "stream",
     "text": [
      "s3a://ps-uat2\n"
     ]
    }
   ],
   "source": [
    "# Setting STORAGE\n",
    "# Set the setup variables needed by CMLBootstrap\n",
    "HOST = os.getenv(\"CDSW_API_URL\").split(\":\")[0] + \"://\" + os.getenv(\"CDSW_DOMAIN\")\n",
    "USERNAME = os.getenv(\"CDSW_PROJECT_URL\").split(\"/\")[6]  # args.username  # \"vdibia\"\n",
    "API_KEY = os.getenv(\"CDSW_API_KEY\")\n",
    "PROJECT_NAME = os.getenv(\"CDSW_PROJECT\")\n",
    "\n",
    "# Instantiate API Wrapper\n",
    "cml = CMLBootstrap(HOST, USERNAME, API_KEY, PROJECT_NAME)\n",
    "\n",
    "try:\n",
    "    storage = os.environ[\"STORAGE\"]\n",
    "except:\n",
    "    if os.path.exists(\"/etc/hadoop/conf/hive-site.xml\"):\n",
    "        tree = ET.parse(\"/etc/hadoop/conf/hive-site.xml\")\n",
    "        root = tree.getroot()\n",
    "        for prop in root.findall(\"property\"):\n",
    "            if prop.find(\"name\").text == \"hive.metastore.warehouse.dir\":\n",
    "                storage = (\n",
    "                    prop.find(\"value\").text.split(\"/\")[0]\n",
    "                    + \"//\"\n",
    "                    + prop.find(\"value\").text.split(\"/\")[2]\n",
    "                )\n",
    "    else:\n",
    "        storage = \"/user/\" + os.getenv(\"HADOOP_USER_NAME\")\n",
    "    storage_environment_params = {\"STORAGE\": storage}\n",
    "    storage_environment = cml.create_environment_variable(storage_environment_params)\n",
    "    os.environ[\"STORAGE\"] = storage\n",
    "    \n",
    "print(os.environ[\"STORAGE\"])"
   ]
  },
  {
   "cell_type": "code",
   "execution_count": 4,
   "id": "442cde43-ddc5-496f-a32b-19b850a14680",
   "metadata": {},
   "outputs": [
    {
     "name": "stderr",
     "output_type": "stream",
     "text": [
      "Setting spark.hadoop.yarn.resourcemanager.principal to svadivel\n"
     ]
    }
   ],
   "source": [
    "# Creating Spark session\n",
    "spark = SparkSession\\\n",
    "    .builder\\\n",
    "    .appName(\"Credit Scoring\")\\\n",
    "    .config(\"spark.hadoop.fs.s3a.s3guard.ddb.region\",\"us-east-2\")\\\n",
    "    .config(\"spark.yarn.access.hadoopFileSystems\",os.environ[\"STORAGE\"])\\\n",
    "    .getOrCreate()"
   ]
  },
  {
   "cell_type": "code",
   "execution_count": 5,
   "id": "62faae97-8b07-48ef-ac4c-142cab8282cb",
   "metadata": {},
   "outputs": [
    {
     "name": "stderr",
     "output_type": "stream",
     "text": [
      "                                                                                \r"
     ]
    }
   ],
   "source": [
    "# Read source data\n",
    "df = spark.read.option('inferschema','true').csv(\n",
    "  os.environ[\"STORAGE\"] + \"/credit_demo_sv/LoanStats_2015_original.csv\",\n",
    "  header=True,\n",
    "  sep=',',\n",
    "  nullValue='NA'\n",
    ")"
   ]
  },
  {
   "cell_type": "code",
   "execution_count": 6,
   "id": "cdc73e9b-2955-46a6-befd-944442d8388d",
   "metadata": {},
   "outputs": [
    {
     "name": "stderr",
     "output_type": "stream",
     "text": [
      "                                                                                \r"
     ]
    },
    {
     "name": "stdout",
     "output_type": "stream",
     "text": [
      "CPU times: user 176 ms, sys: 42.7 ms, total: 219 ms\n",
      "Wall time: 46 s\n"
     ]
    }
   ],
   "source": [
    "#Count number of nulls for each column:\n",
    "%time df_pd_null_pct = df.select([((F.count(F.when(F.isnan(c) | F.col(c).isNull(), c))/df.count())*100).alias(c) for c in df.columns])"
   ]
  },
  {
   "cell_type": "code",
   "execution_count": 7,
   "id": "5794b978-cb8a-4379-8c1e-d243ebbd3d82",
   "metadata": {},
   "outputs": [
    {
     "name": "stderr",
     "output_type": "stream",
     "text": [
      "/opt/spark/python/lib/pyspark.zip/pyspark/sql/pandas/conversion.py:202: PerformanceWarning: DataFrame is highly fragmented.  This is usually the result of calling `frame.insert` many times, which has poor performance.  Consider joining all columns at once using pd.concat(axis=1) instead.  To get a de-fragmented frame, use `newframe = frame.copy()`\n",
      "  df[column_name] = series\n"
     ]
    }
   ],
   "source": [
    "null_cols = df_pd_null_pct.toPandas().T[(df_pd_null_pct.toPandas().T > 1).any(axis=1)].index"
   ]
  },
  {
   "cell_type": "code",
   "execution_count": 8,
   "id": "705c5e51-f46b-4eb0-af13-002875e1f229",
   "metadata": {},
   "outputs": [],
   "source": [
    "# Dropping NULL columns\n",
    "df_non_null = df.drop(*null_cols)"
   ]
  },
  {
   "cell_type": "code",
   "execution_count": 9,
   "id": "4a11bdb7-1ac0-4ab9-8c71-90710d879ea1",
   "metadata": {},
   "outputs": [
    {
     "data": {
      "text/plain": [
       "(105, 68)"
      ]
     },
     "execution_count": 9,
     "metadata": {},
     "output_type": "execute_result"
    }
   ],
   "source": [
    "len(df.columns), len(df_non_null.columns)"
   ]
  },
  {
   "cell_type": "code",
   "execution_count": 10,
   "id": "49ddd023-30a9-4673-a01d-c4706c45bae8",
   "metadata": {},
   "outputs": [
    {
     "name": "stdout",
     "output_type": "stream",
     "text": [
      "root\n",
      " |-- acc_now_delinq: integer (nullable = true)\n",
      " |-- acc_open_past_24mths: integer (nullable = true)\n",
      " |-- addr_state: string (nullable = true)\n",
      " |-- annual_inc: double (nullable = true)\n",
      " |-- application_type: string (nullable = true)\n",
      " |-- avg_cur_bal: integer (nullable = true)\n",
      " |-- bc_open_to_buy: integer (nullable = true)\n",
      " |-- bc_util: double (nullable = true)\n",
      " |-- chargeoff_within_12_mths: integer (nullable = true)\n",
      " |-- collections_12_mths_ex_med: integer (nullable = true)\n",
      " |-- delinq_2yrs: integer (nullable = true)\n",
      " |-- delinq_amnt: integer (nullable = true)\n",
      " |-- desc: string (nullable = true)\n",
      " |-- dti: double (nullable = true)\n",
      " |-- earliest_cr_line: string (nullable = true)\n",
      " |-- emp_length: string (nullable = true)\n",
      " |-- emp_title: string (nullable = true)\n",
      " |-- funded_amnt: integer (nullable = true)\n",
      " |-- funded_amnt_inv: integer (nullable = true)\n",
      " |-- grade: string (nullable = true)\n",
      " |-- home_ownership: string (nullable = true)\n",
      " |-- id: string (nullable = true)\n",
      " |-- initial_list_status: string (nullable = true)\n",
      " |-- inq_last_6mths: integer (nullable = true)\n",
      " |-- installment: double (nullable = true)\n",
      " |-- int_rate: string (nullable = true)\n",
      " |-- issue_d: string (nullable = true)\n",
      " |-- loan_amnt: integer (nullable = true)\n",
      " |-- loan_status: string (nullable = true)\n",
      " |-- mo_sin_old_rev_tl_op: integer (nullable = true)\n",
      " |-- mo_sin_rcnt_rev_tl_op: integer (nullable = true)\n",
      " |-- mo_sin_rcnt_tl: integer (nullable = true)\n",
      " |-- mort_acc: integer (nullable = true)\n",
      " |-- mths_since_recent_bc: integer (nullable = true)\n",
      " |-- num_accts_ever_120_pd: integer (nullable = true)\n",
      " |-- num_actv_bc_tl: integer (nullable = true)\n",
      " |-- num_actv_rev_tl: integer (nullable = true)\n",
      " |-- num_bc_sats: integer (nullable = true)\n",
      " |-- num_bc_tl: integer (nullable = true)\n",
      " |-- num_il_tl: integer (nullable = true)\n",
      " |-- num_op_rev_tl: integer (nullable = true)\n",
      " |-- num_rev_accts: integer (nullable = true)\n",
      " |-- num_rev_tl_bal_gt_0: integer (nullable = true)\n",
      " |-- num_sats: integer (nullable = true)\n",
      " |-- num_tl_30dpd: integer (nullable = true)\n",
      " |-- num_tl_90g_dpd_24m: integer (nullable = true)\n",
      " |-- num_tl_op_past_12m: integer (nullable = true)\n",
      " |-- open_acc: integer (nullable = true)\n",
      " |-- pct_tl_nvr_dlq: double (nullable = true)\n",
      " |-- policy_code: integer (nullable = true)\n",
      " |-- pub_rec: integer (nullable = true)\n",
      " |-- pub_rec_bankruptcies: integer (nullable = true)\n",
      " |-- purpose: string (nullable = true)\n",
      " |-- revol_bal: integer (nullable = true)\n",
      " |-- revol_util: string (nullable = true)\n",
      " |-- sub_grade: string (nullable = true)\n",
      " |-- tax_liens: integer (nullable = true)\n",
      " |-- term: string (nullable = true)\n",
      " |-- title: string (nullable = true)\n",
      " |-- tot_cur_bal: integer (nullable = true)\n",
      " |-- tot_hi_cred_lim: integer (nullable = true)\n",
      " |-- total_acc: integer (nullable = true)\n",
      " |-- total_bal_ex_mort: integer (nullable = true)\n",
      " |-- total_bc_limit: integer (nullable = true)\n",
      " |-- total_il_high_credit_limit: integer (nullable = true)\n",
      " |-- total_rev_hi_lim: integer (nullable = true)\n",
      " |-- verification_status: string (nullable = true)\n",
      " |-- zip_code: string (nullable = true)\n",
      "\n"
     ]
    }
   ],
   "source": [
    "df_non_null.printSchema()"
   ]
  },
  {
   "cell_type": "code",
   "execution_count": 11,
   "id": "a66b455a-3b1b-4823-856b-c5958376f280",
   "metadata": {},
   "outputs": [],
   "source": [
    "cat_cols = [item[0] for item in df_non_null.dtypes if item[1].startswith('string')]\n",
    "num_cols = [item[0] for item in df_non_null.dtypes if item[1].startswith('in') or item[1].startswith('dou')]\n",
    "num_features, cat_features = num_cols, cat_cols"
   ]
  },
  {
   "cell_type": "code",
   "execution_count": 12,
   "id": "a1e6bf64-ffb3-4d96-b77b-42e125bd2ae4",
   "metadata": {},
   "outputs": [
    {
     "name": "stdout",
     "output_type": "stream",
     "text": [
      "['addr_state', 'application_type', 'desc', 'earliest_cr_line', 'emp_length', 'emp_title', 'grade', 'home_ownership', 'id', 'initial_list_status', 'int_rate', 'issue_d', 'loan_status', 'purpose', 'revol_util', 'sub_grade', 'term', 'title', 'verification_status', 'zip_code']\n"
     ]
    }
   ],
   "source": [
    "print(cat_cols)"
   ]
  },
  {
   "cell_type": "markdown",
   "id": "89dfc570-66ca-4423-8a8d-5395d0e7dc30",
   "metadata": {},
   "source": [
    "### Dropping null rows"
   ]
  },
  {
   "cell_type": "code",
   "execution_count": 13,
   "id": "6ecf27ad-16c2-4e44-916a-910d6ebbe048",
   "metadata": {},
   "outputs": [],
   "source": [
    "df_non_null = df_non_null.dropna()"
   ]
  },
  {
   "cell_type": "markdown",
   "id": "3f436576-1092-44a8-b7e5-c70af259ae36",
   "metadata": {},
   "source": [
    "# Label Column"
   ]
  },
  {
   "cell_type": "markdown",
   "id": "0ec8cc12-b1cd-46b4-90cc-d09c0e2f406b",
   "metadata": {
    "tags": []
   },
   "source": [
    "loan_status is the 'label' column"
   ]
  },
  {
   "cell_type": "code",
   "execution_count": 14,
   "id": "7c5e6e15-1521-4aa3-81bc-7de1a452d6d1",
   "metadata": {
    "tags": []
   },
   "outputs": [
    {
     "name": "stderr",
     "output_type": "stream",
     "text": [
      "[Stage 322:>                                                        (0 + 2) / 2]\r"
     ]
    },
    {
     "name": "stdout",
     "output_type": "stream",
     "text": [
      "+------------------+-----+\n",
      "|       loan_status|count|\n",
      "+------------------+-----+\n",
      "|        Fully Paid|28765|\n",
      "|           Default|    2|\n",
      "|   In Grace Period|  631|\n",
      "|       Charged Off|10679|\n",
      "|Late (31-120 days)| 1196|\n",
      "|           Current|36849|\n",
      "| Late (16-30 days)|  236|\n",
      "+------------------+-----+\n",
      "\n"
     ]
    },
    {
     "name": "stderr",
     "output_type": "stream",
     "text": [
      "                                                                                \r"
     ]
    }
   ],
   "source": [
    "df_non_null.groupBy('loan_status').count().show()"
   ]
  },
  {
   "cell_type": "markdown",
   "id": "d9f759f8-674e-4cff-b110-fdba7d42bc60",
   "metadata": {
    "tags": []
   },
   "source": [
    "`Create derived column 'is_default' from 'loan_status'`"
   ]
  },
  {
   "cell_type": "code",
   "execution_count": 15,
   "id": "0a85fd6c-bb31-4908-be5f-65711203ffc4",
   "metadata": {
    "tags": []
   },
   "outputs": [
    {
     "name": "stderr",
     "output_type": "stream",
     "text": [
      "[Stage 325:>                                                        (0 + 2) / 2]\r"
     ]
    },
    {
     "name": "stdout",
     "output_type": "stream",
     "text": [
      "+----------+-----+\n",
      "|is_default|count|\n",
      "+----------+-----+\n",
      "|         1|10681|\n",
      "|         0|67677|\n",
      "+----------+-----+\n",
      "\n"
     ]
    },
    {
     "name": "stderr",
     "output_type": "stream",
     "text": [
      "                                                                                \r"
     ]
    }
   ],
   "source": [
    "df_labelled = df_non_null.withColumn(\"is_default\", F.when((df_non_null[\"loan_status\"] == \"Charged Off\")|(df_non_null[\"loan_status\"] == \"Default\"), 1).otherwise(0))\n",
    "df_labelled.groupBy('is_default').count().show()"
   ]
  },
  {
   "cell_type": "markdown",
   "id": "09db7974-8d85-43cd-ab84-f32dd5224163",
   "metadata": {},
   "source": [
    "## String Column analysis"
   ]
  },
  {
   "cell_type": "markdown",
   "id": "a69bc3cb-cf1a-463c-a777-4e5799417ade",
   "metadata": {},
   "source": [
    "- earliest_cr_line seems like usable column along with sec_app_earliest_cr_line but sec_app_earliest_cr_line is null for majority of the rows. IGNORED.\n",
    "- emp_length is categorical but requires to be translated to meaning feature. IGNORED.\n",
    "- emp_title has too many distinct values (30984). IGNORED.\n",
    "- id columns is empty for all rows. IGNORED\n",
    "- issue_d does not contain a meaningful information. IGNORED.\n",
    "- sub_grade is not used. grade is used instead. IGNORED.\n",
    "- term does not offer value in prediction. IGNORED.\n",
    "- verification_status may lead to bias. IGNORED.\n",
    "- zip_code can lead to bias. IGNORED."
   ]
  },
  {
   "cell_type": "code",
   "execution_count": 16,
   "id": "85c8b43d-7f12-43e1-9fef-3e49ac07fbc5",
   "metadata": {},
   "outputs": [],
   "source": [
    "# Drop unwanted columns\n",
    "drop_str_cols = ['addr_state', 'desc', 'earliest_cr_line', 'emp_length', 'emp_title', 'id', 'issue_d', 'loan_status', 'sub_grade', 'term', 'title', 'verification_status', 'zip_code']\n",
    "select_str_cat_cols = ['application_type', 'grade', 'home_ownership', 'initial_list_status', 'purpose']"
   ]
  },
  {
   "cell_type": "code",
   "execution_count": 17,
   "id": "7962c4b7-316b-415e-91f4-1d69ece24d9f",
   "metadata": {},
   "outputs": [
    {
     "name": "stdout",
     "output_type": "stream",
     "text": [
      "+----------------------+\n",
      "|trim(application_type)|\n",
      "+----------------------+\n",
      "|            Individual|\n",
      "|            Individual|\n",
      "|            Individual|\n",
      "|            Individual|\n",
      "|            Individual|\n",
      "+----------------------+\n",
      "only showing top 5 rows\n",
      "\n"
     ]
    },
    {
     "name": "stderr",
     "output_type": "stream",
     "text": [
      "[Stage 329:>                                                        (0 + 2) / 2]\r"
     ]
    },
    {
     "name": "stdout",
     "output_type": "stream",
     "text": [
      "+----------------------+\n",
      "|trim(application_type)|\n",
      "+----------------------+\n",
      "|             Joint App|\n",
      "|            Individual|\n",
      "+----------------------+\n",
      "\n"
     ]
    },
    {
     "name": "stderr",
     "output_type": "stream",
     "text": [
      "                                                                                \r"
     ]
    }
   ],
   "source": [
    "#Application Type is a categorical column\n",
    "from pyspark.sql.functions import trim\n",
    "df_labelled.select(trim('application_type')).filter(trim('application_type') != '').show(5)\n",
    "\n",
    "df_labelled.select(trim('application_type')).distinct().show()"
   ]
  },
  {
   "cell_type": "code",
   "execution_count": 18,
   "id": "f2116d55-a21e-49c2-b51a-4dbd11137bf6",
   "metadata": {},
   "outputs": [
    {
     "name": "stderr",
     "output_type": "stream",
     "text": [
      "[Stage 332:============================>                            (1 + 1) / 2]\r"
     ]
    },
    {
     "name": "stdout",
     "output_type": "stream",
     "text": [
      "+----------+-----+\n",
      "|emp_length|count|\n",
      "+----------+-----+\n",
      "|    1 year| 5116|\n",
      "| 10+ years|26374|\n",
      "|   2 years| 6855|\n",
      "|   3 years| 6227|\n",
      "|   4 years| 4486|\n",
      "|   5 years| 4710|\n",
      "|   6 years| 3062|\n",
      "|   7 years| 2869|\n",
      "|   8 years| 3971|\n",
      "|   9 years| 3015|\n",
      "|  < 1 year| 6934|\n",
      "|       n/a| 4739|\n",
      "+----------+-----+\n",
      "\n"
     ]
    },
    {
     "name": "stderr",
     "output_type": "stream",
     "text": [
      "                                                                                \r"
     ]
    }
   ],
   "source": [
    "df_labelled.groupBy('emp_length').count().orderBy('emp_length').show()"
   ]
  },
  {
   "cell_type": "code",
   "execution_count": 19,
   "id": "487b9255-e6ee-4eb1-81e2-20bdfd8afa57",
   "metadata": {},
   "outputs": [
    {
     "name": "stderr",
     "output_type": "stream",
     "text": [
      "                                                                                \r"
     ]
    },
    {
     "data": {
      "text/plain": [
       "30714"
      ]
     },
     "execution_count": 19,
     "metadata": {},
     "output_type": "execute_result"
    }
   ],
   "source": [
    "df_labelled.select('emp_title').distinct().count()"
   ]
  },
  {
   "cell_type": "code",
   "execution_count": 20,
   "id": "ef8d5514-a5d9-41c0-bde5-cf6c2a8bd40a",
   "metadata": {},
   "outputs": [
    {
     "name": "stderr",
     "output_type": "stream",
     "text": [
      "[Stage 341:============================>                            (1 + 1) / 2]\r"
     ]
    },
    {
     "name": "stdout",
     "output_type": "stream",
     "text": [
      "+-----+-----+\n",
      "|grade|count|\n",
      "+-----+-----+\n",
      "|    F| 1492|\n",
      "|    E| 5477|\n",
      "|    B|23981|\n",
      "|    D|10474|\n",
      "|    C|22906|\n",
      "|    A|13713|\n",
      "|    G|  315|\n",
      "+-----+-----+\n",
      "\n"
     ]
    },
    {
     "name": "stderr",
     "output_type": "stream",
     "text": [
      "                                                                                \r"
     ]
    }
   ],
   "source": [
    "df_labelled.groupBy('grade').count().show(20)"
   ]
  },
  {
   "cell_type": "code",
   "execution_count": 21,
   "id": "c5c682ee-b039-4c5c-b1e1-a0cf908618c3",
   "metadata": {},
   "outputs": [
    {
     "name": "stderr",
     "output_type": "stream",
     "text": [
      "                                                                                \r"
     ]
    },
    {
     "name": "stdout",
     "output_type": "stream",
     "text": [
      "Distinct values for home_ownership:  4\n"
     ]
    },
    {
     "name": "stderr",
     "output_type": "stream",
     "text": [
      "[Stage 350:============================>                            (1 + 1) / 2]\r"
     ]
    },
    {
     "name": "stdout",
     "output_type": "stream",
     "text": [
      "+--------------+-----+\n",
      "|home_ownership|count|\n",
      "+--------------+-----+\n",
      "|           OWN| 8889|\n",
      "|          RENT|30741|\n",
      "|      MORTGAGE|38727|\n",
      "|           ANY|    1|\n",
      "+--------------+-----+\n",
      "\n"
     ]
    },
    {
     "name": "stderr",
     "output_type": "stream",
     "text": [
      "                                                                                \r"
     ]
    }
   ],
   "source": [
    "ct = df_labelled.select('home_ownership').distinct().count()\n",
    "print(\"Distinct values for home_ownership: \", ct)\n",
    "df_labelled.groupBy('home_ownership').count().show()"
   ]
  },
  {
   "cell_type": "code",
   "execution_count": 22,
   "id": "0e12dfa9-5fe7-46a7-9f0f-a07b515a7c38",
   "metadata": {},
   "outputs": [
    {
     "name": "stderr",
     "output_type": "stream",
     "text": [
      "                                                                                \r"
     ]
    },
    {
     "name": "stdout",
     "output_type": "stream",
     "text": [
      "Distinct values for initial_list_status:  2\n"
     ]
    },
    {
     "name": "stderr",
     "output_type": "stream",
     "text": [
      "[Stage 359:============================>                            (1 + 1) / 2]\r"
     ]
    },
    {
     "name": "stdout",
     "output_type": "stream",
     "text": [
      "+-------------------+-----+\n",
      "|initial_list_status|count|\n",
      "+-------------------+-----+\n",
      "|                  f|16989|\n",
      "|                  w|61369|\n",
      "+-------------------+-----+\n",
      "\n"
     ]
    },
    {
     "name": "stderr",
     "output_type": "stream",
     "text": [
      "                                                                                \r"
     ]
    }
   ],
   "source": [
    "ct = df_labelled.select('initial_list_status').distinct().count()\n",
    "print(\"Distinct values for initial_list_status: \", ct)\n",
    "df_labelled.groupBy('initial_list_status').count().show()"
   ]
  },
  {
   "cell_type": "code",
   "execution_count": 23,
   "id": "d68a459c-7073-4be1-b856-d7261203ec1c",
   "metadata": {},
   "outputs": [
    {
     "name": "stderr",
     "output_type": "stream",
     "text": [
      "[Stage 362:============================>                            (1 + 1) / 2]\r"
     ]
    },
    {
     "name": "stdout",
     "output_type": "stream",
     "text": [
      "Distinct values for int_rate:  80\n",
      "+--------+\n",
      "|int_rate|\n",
      "+--------+\n",
      "|   9.80%|\n",
      "|   5.32%|\n",
      "|  18.49%|\n",
      "|  15.77%|\n",
      "|  19.89%|\n",
      "|  10.78%|\n",
      "|  16.59%|\n",
      "|   7.49%|\n",
      "|  13.99%|\n",
      "|  10.78%|\n",
      "|  12.88%|\n",
      "|   6.49%|\n",
      "|  17.27%|\n",
      "|  13.99%|\n",
      "|  11.99%|\n",
      "|  17.27%|\n",
      "|  12.88%|\n",
      "|   6.49%|\n",
      "|  17.27%|\n",
      "|  14.85%|\n",
      "+--------+\n",
      "only showing top 20 rows\n",
      "\n"
     ]
    },
    {
     "name": "stderr",
     "output_type": "stream",
     "text": [
      "                                                                                \r"
     ]
    }
   ],
   "source": [
    "ct = df_labelled.select('int_rate').distinct().count()\n",
    "print(\"Distinct values for int_rate: \", ct)\n",
    "df_labelled.select('int_rate').show()"
   ]
  },
  {
   "cell_type": "code",
   "execution_count": 24,
   "id": "ba2719b4-db29-4843-a751-90e49c88366d",
   "metadata": {},
   "outputs": [
    {
     "name": "stderr",
     "output_type": "stream",
     "text": [
      "                                                                                \r"
     ]
    },
    {
     "name": "stdout",
     "output_type": "stream",
     "text": [
      "Distinct values for issue_d:  3\n"
     ]
    },
    {
     "name": "stderr",
     "output_type": "stream",
     "text": [
      "[Stage 375:============================>                            (1 + 1) / 2]\r"
     ]
    },
    {
     "name": "stdout",
     "output_type": "stream",
     "text": [
      "+--------+-----+\n",
      "| issue_d|count|\n",
      "+--------+-----+\n",
      "|Nov-2015|34419|\n",
      "|Oct-2015|   52|\n",
      "|Dec-2015|43887|\n",
      "+--------+-----+\n",
      "\n"
     ]
    },
    {
     "name": "stderr",
     "output_type": "stream",
     "text": [
      "                                                                                \r"
     ]
    }
   ],
   "source": [
    "ct = df_labelled.select('issue_d').distinct().count()\n",
    "print(\"Distinct values for issue_d: \", ct)\n",
    "df_labelled.groupBy('issue_d').count().show()"
   ]
  },
  {
   "cell_type": "code",
   "execution_count": 25,
   "id": "665b59f1-2d09-43b0-a614-0f06fe0b2f5c",
   "metadata": {},
   "outputs": [
    {
     "name": "stderr",
     "output_type": "stream",
     "text": [
      "                                                                                \r"
     ]
    },
    {
     "name": "stdout",
     "output_type": "stream",
     "text": [
      "Distinct values for purpose:  12\n"
     ]
    },
    {
     "name": "stderr",
     "output_type": "stream",
     "text": [
      "[Stage 384:============================>                            (1 + 1) / 2]\r"
     ]
    },
    {
     "name": "stdout",
     "output_type": "stream",
     "text": [
      "+------------------+-----+\n",
      "|           purpose|count|\n",
      "+------------------+-----+\n",
      "|             other| 4153|\n",
      "|    small_business|  685|\n",
      "|debt_consolidation|44497|\n",
      "|       credit_card|19853|\n",
      "|            moving|  446|\n",
      "|          vacation|  404|\n",
      "|  renewable_energy|   43|\n",
      "|             house|  253|\n",
      "|               car|  682|\n",
      "|    major_purchase| 1591|\n",
      "|           medical|  873|\n",
      "|  home_improvement| 4878|\n",
      "+------------------+-----+\n",
      "\n"
     ]
    },
    {
     "name": "stderr",
     "output_type": "stream",
     "text": [
      "                                                                                \r"
     ]
    }
   ],
   "source": [
    "ct = df_labelled.select('purpose').distinct().count()\n",
    "print(\"Distinct values for purpose: \", ct)\n",
    "df_labelled.groupBy('purpose').count().show()"
   ]
  },
  {
   "cell_type": "code",
   "execution_count": 26,
   "id": "f29f3018-87f7-4b4a-80fd-15da44be0215",
   "metadata": {},
   "outputs": [
    {
     "name": "stderr",
     "output_type": "stream",
     "text": [
      "                                                                                \r"
     ]
    },
    {
     "name": "stdout",
     "output_type": "stream",
     "text": [
      "Distinct values for title:  14\n"
     ]
    },
    {
     "name": "stderr",
     "output_type": "stream",
     "text": [
      "[Stage 393:============================>                            (1 + 1) / 2]\r"
     ]
    },
    {
     "name": "stdout",
     "output_type": "stream",
     "text": [
      "+-----------------------+----------+-----+\n",
      "|title                  |is_default|count|\n",
      "+-----------------------+----------+-----+\n",
      "|                       |0         |117  |\n",
      "|                       |1         |12   |\n",
      "|Business               |0         |543  |\n",
      "|Business               |1         |140  |\n",
      "|Car financing          |0         |606  |\n",
      "|Car financing          |1         |74   |\n",
      "|Credit card refinancing|0         |17702|\n",
      "|Credit card refinancing|1         |2115 |\n",
      "|Debt consolidation     |0         |37878|\n",
      "|Debt consolidation     |1         |6564 |\n",
      "|Green loan             |0         |35   |\n",
      "|Green loan             |1         |8    |\n",
      "|Home buying            |0         |204  |\n",
      "|Home buying            |1         |49   |\n",
      "|Home improvement       |0         |4251 |\n",
      "|Home improvement       |1         |608  |\n",
      "|Major purchase         |0         |1367 |\n",
      "|Major purchase         |1         |220  |\n",
      "|Medical expenses       |0         |726  |\n",
      "|Medical expenses       |1         |142  |\n",
      "|Moving and relocation  |0         |368  |\n",
      "|Moving and relocation  |1         |77   |\n",
      "|Other                  |0         |3538 |\n",
      "|Other                  |1         |609  |\n",
      "|Vacation               |0         |341  |\n",
      "|Vacation               |1         |63   |\n",
      "|odymeds                |0         |1    |\n",
      "+-----------------------+----------+-----+\n",
      "\n"
     ]
    },
    {
     "name": "stderr",
     "output_type": "stream",
     "text": [
      "                                                                                \r"
     ]
    }
   ],
   "source": [
    "ct = df_labelled.select('title').distinct().count()\n",
    "print(\"Distinct values for title: \", ct)\n",
    "#df_non_null.groupBy('title').count().show(20, truncate=False)\n",
    "df_labelled.groupBy('title','is_default').count().orderBy('title','is_default').show(40, truncate=False)"
   ]
  },
  {
   "cell_type": "code",
   "execution_count": 27,
   "id": "51847e63-d097-4c0d-97fc-f132723d7cce",
   "metadata": {},
   "outputs": [
    {
     "name": "stderr",
     "output_type": "stream",
     "text": [
      "[Stage 396:============================>                            (1 + 1) / 2]\r"
     ]
    },
    {
     "name": "stdout",
     "output_type": "stream",
     "text": [
      "Distinct values for verification_status:  3\n"
     ]
    },
    {
     "name": "stderr",
     "output_type": "stream",
     "text": [
      "                                                                                \r"
     ]
    }
   ],
   "source": [
    "ct = df_labelled.select('verification_status').distinct().count()\n",
    "print(\"Distinct values for verification_status: \", ct)\n",
    "#df_non_null.groupBy('verification_status').count().show()\n",
    "df_verification_status = df_labelled.groupBy('verification_status','is_default').count().orderBy('verification_status','is_default')"
   ]
  },
  {
   "cell_type": "code",
   "execution_count": 28,
   "id": "81303eae-120a-4eff-939c-345f5c9f2694",
   "metadata": {},
   "outputs": [
    {
     "name": "stderr",
     "output_type": "stream",
     "text": [
      "                                                                                \r"
     ]
    },
    {
     "data": {
      "image/png": "[encoded data removed]",
      "text/plain": [
       "<Figure size 432x288 with 1 Axes>"
      ]
     },
     "metadata": {
      "needs_background": "light"
     },
     "output_type": "display_data"
    }
   ],
   "source": [
    "import matplotlib.pyplot as plt\n",
    "labels = df_labelled.select('verification_status').distinct().orderBy('verification_status').toPandas()['verification_status']\n",
    "non_default = df_labelled.groupBy('verification_status','is_default').count().orderBy('verification_status').filter('is_default == 0').toPandas()['count']\n",
    "default = df_labelled.groupBy('verification_status','is_default').count().orderBy('verification_status').filter('is_default == 1').toPandas()['count']\n",
    "width = 0.35\n",
    "\n",
    "fig, ax = plt.subplots()\n",
    "\n",
    "ax.bar(labels, non_default, width, label='non_default')\n",
    "ax.bar(labels, default, width, bottom=non_default, label='default')\n",
    "\n",
    "ax.set_ylabel('Count')\n",
    "ax.set_title('Default status sount by verification status')\n",
    "ax.legend()\n",
    "\n",
    "plt.show()"
   ]
  },
  {
   "cell_type": "code",
   "execution_count": 29,
   "id": "306938b0-367a-4e5f-b5c8-23b792877fce",
   "metadata": {},
   "outputs": [
    {
     "name": "stderr",
     "output_type": "stream",
     "text": [
      "                                                                                \r"
     ]
    },
    {
     "data": {
      "text/plain": [
       "0    2009\n",
       "1    4262\n",
       "2    4410\n",
       "Name: count, dtype: int64"
      ]
     },
     "execution_count": 29,
     "metadata": {},
     "output_type": "execute_result"
    }
   ],
   "source": [
    "df_labelled.groupBy('verification_status','is_default').count().orderBy('verification_status').filter('is_default == 1').toPandas()['count']"
   ]
  },
  {
   "cell_type": "markdown",
   "id": "5e3f9fd3-8422-456f-9bc2-958f378507f3",
   "metadata": {},
   "source": [
    "# Feature Engineering"
   ]
  },
  {
   "cell_type": "markdown",
   "id": "79b4382b-ecb9-4779-b6f3-6519c7365d1a",
   "metadata": {},
   "source": [
    "## Categorical String columns to vector"
   ]
  },
  {
   "cell_type": "code",
   "execution_count": 30,
   "id": "0e3c0a70-26c5-4659-80e0-25fbccf98c24",
   "metadata": {},
   "outputs": [],
   "source": [
    "from pyspark.ml import Pipeline\n",
    "from pyspark.ml.feature import OneHotEncoder, StringIndexer\n",
    "\n",
    "def vectorize_cat_cols(df, cat_str_cols):\n",
    "    idx_cols = [column+\"_index\" for column in cat_str_cols]\n",
    "    enc_cols = [idx_column+\"_vec\" for idx_column in idx_cols]\n",
    "    indexers = StringIndexer(inputCols=cat_str_cols, outputCols=idx_cols)\n",
    "    encoders = OneHotEncoder(inputCols=idx_cols, outputCols=enc_cols, dropLast=False)\n",
    "    pipeline = Pipeline(stages=[indexers, encoders])\n",
    "    df_r = pipeline.fit(df).transform(df)\n",
    "    df_r = df_r.drop(*idx_cols)\n",
    "    df_r.select(*cat_str_cols, *enc_cols).toPandas()\n",
    "    return df_r\n",
    "    "
   ]
  },
  {
   "cell_type": "code",
   "execution_count": 31,
   "id": "34a8e369-35b8-4778-b2ec-589793a1cfd8",
   "metadata": {},
   "outputs": [
    {
     "name": "stderr",
     "output_type": "stream",
     "text": [
      "                                                                                \r"
     ]
    }
   ],
   "source": [
    "df_vec = vectorize_cat_cols(df_labelled, select_str_cat_cols)\n",
    "#vectorize_cat_cols(df_labelled, select_str_cat_cols)"
   ]
  },
  {
   "cell_type": "code",
   "execution_count": 32,
   "id": "25f1b8e3-fe18-425f-b01e-cd60c3bf408c",
   "metadata": {},
   "outputs": [
    {
     "name": "stderr",
     "output_type": "stream",
     "text": [
      "                                                                                \r"
     ]
    },
    {
     "data": {
      "text/html": [
       "<div>\n",
       "<style scoped>\n",
       "    .dataframe tbody tr th:only-of-type {\n",
       "        vertical-align: middle;\n",
       "    }\n",
       "\n",
       "    .dataframe tbody tr th {\n",
       "        vertical-align: top;\n",
       "    }\n",
       "\n",
       "    .dataframe thead th {\n",
       "        text-align: right;\n",
       "    }\n",
       "</style>\n",
       "<table border=\"1\" class=\"dataframe\">\n",
       "  <thead>\n",
       "    <tr style=\"text-align: right;\">\n",
       "      <th></th>\n",
       "      <th>acc_now_delinq</th>\n",
       "      <th>acc_open_past_24mths</th>\n",
       "      <th>addr_state</th>\n",
       "      <th>annual_inc</th>\n",
       "      <th>application_type</th>\n",
       "      <th>avg_cur_bal</th>\n",
       "      <th>bc_open_to_buy</th>\n",
       "      <th>bc_util</th>\n",
       "      <th>chargeoff_within_12_mths</th>\n",
       "      <th>collections_12_mths_ex_med</th>\n",
       "      <th>...</th>\n",
       "      <th>total_il_high_credit_limit</th>\n",
       "      <th>total_rev_hi_lim</th>\n",
       "      <th>verification_status</th>\n",
       "      <th>zip_code</th>\n",
       "      <th>is_default</th>\n",
       "      <th>application_type_index_vec</th>\n",
       "      <th>grade_index_vec</th>\n",
       "      <th>home_ownership_index_vec</th>\n",
       "      <th>initial_list_status_index_vec</th>\n",
       "      <th>purpose_index_vec</th>\n",
       "    </tr>\n",
       "  </thead>\n",
       "  <tbody>\n",
       "    <tr>\n",
       "      <th>0</th>\n",
       "      <td>0</td>\n",
       "      <td>8</td>\n",
       "      <td>KS</td>\n",
       "      <td>65000.0</td>\n",
       "      <td>Individual</td>\n",
       "      <td>10086</td>\n",
       "      <td>41055</td>\n",
       "      <td>17.1</td>\n",
       "      <td>0</td>\n",
       "      <td>0</td>\n",
       "      <td>...</td>\n",
       "      <td>105910</td>\n",
       "      <td>73200</td>\n",
       "      <td>Not Verified</td>\n",
       "      <td>660xx</td>\n",
       "      <td>0</td>\n",
       "      <td>(1.0, 0.0)</td>\n",
       "      <td>(1.0, 0.0, 0.0, 0.0, 0.0, 0.0, 0.0)</td>\n",
       "      <td>(1.0, 0.0, 0.0, 0.0)</td>\n",
       "      <td>(1.0, 0.0)</td>\n",
       "      <td>(1.0, 0.0, 0.0, 0.0, 0.0, 0.0, 0.0, 0.0, 0.0, ...</td>\n",
       "    </tr>\n",
       "    <tr>\n",
       "      <th>1</th>\n",
       "      <td>0</td>\n",
       "      <td>1</td>\n",
       "      <td>VT</td>\n",
       "      <td>150000.0</td>\n",
       "      <td>Individual</td>\n",
       "      <td>61551</td>\n",
       "      <td>24661</td>\n",
       "      <td>44.0</td>\n",
       "      <td>0</td>\n",
       "      <td>0</td>\n",
       "      <td>...</td>\n",
       "      <td>51081</td>\n",
       "      <td>45500</td>\n",
       "      <td>Not Verified</td>\n",
       "      <td>054xx</td>\n",
       "      <td>0</td>\n",
       "      <td>(1.0, 0.0)</td>\n",
       "      <td>(0.0, 0.0, 1.0, 0.0, 0.0, 0.0, 0.0)</td>\n",
       "      <td>(1.0, 0.0, 0.0, 0.0)</td>\n",
       "      <td>(1.0, 0.0)</td>\n",
       "      <td>(0.0, 1.0, 0.0, 0.0, 0.0, 0.0, 0.0, 0.0, 0.0, ...</td>\n",
       "    </tr>\n",
       "    <tr>\n",
       "      <th>2</th>\n",
       "      <td>0</td>\n",
       "      <td>8</td>\n",
       "      <td>IN</td>\n",
       "      <td>75000.0</td>\n",
       "      <td>Individual</td>\n",
       "      <td>7176</td>\n",
       "      <td>23476</td>\n",
       "      <td>59.9</td>\n",
       "      <td>0</td>\n",
       "      <td>0</td>\n",
       "      <td>...</td>\n",
       "      <td>31758</td>\n",
       "      <td>83600</td>\n",
       "      <td>Verified</td>\n",
       "      <td>471xx</td>\n",
       "      <td>0</td>\n",
       "      <td>(1.0, 0.0)</td>\n",
       "      <td>(0.0, 0.0, 0.0, 1.0, 0.0, 0.0, 0.0)</td>\n",
       "      <td>(1.0, 0.0, 0.0, 0.0)</td>\n",
       "      <td>(1.0, 0.0)</td>\n",
       "      <td>(1.0, 0.0, 0.0, 0.0, 0.0, 0.0, 0.0, 0.0, 0.0, ...</td>\n",
       "    </tr>\n",
       "    <tr>\n",
       "      <th>3</th>\n",
       "      <td>0</td>\n",
       "      <td>7</td>\n",
       "      <td>OH</td>\n",
       "      <td>175000.0</td>\n",
       "      <td>Individual</td>\n",
       "      <td>51015</td>\n",
       "      <td>21569</td>\n",
       "      <td>50.3</td>\n",
       "      <td>0</td>\n",
       "      <td>0</td>\n",
       "      <td>...</td>\n",
       "      <td>146568</td>\n",
       "      <td>43400</td>\n",
       "      <td>Not Verified</td>\n",
       "      <td>430xx</td>\n",
       "      <td>0</td>\n",
       "      <td>(1.0, 0.0)</td>\n",
       "      <td>(0.0, 0.0, 0.0, 1.0, 0.0, 0.0, 0.0)</td>\n",
       "      <td>(1.0, 0.0, 0.0, 0.0)</td>\n",
       "      <td>(1.0, 0.0)</td>\n",
       "      <td>(0.0, 0.0, 1.0, 0.0, 0.0, 0.0, 0.0, 0.0, 0.0, ...</td>\n",
       "    </tr>\n",
       "    <tr>\n",
       "      <th>4</th>\n",
       "      <td>0</td>\n",
       "      <td>1</td>\n",
       "      <td>FL</td>\n",
       "      <td>44000.0</td>\n",
       "      <td>Individual</td>\n",
       "      <td>19041</td>\n",
       "      <td>0</td>\n",
       "      <td>102.4</td>\n",
       "      <td>0</td>\n",
       "      <td>0</td>\n",
       "      <td>...</td>\n",
       "      <td>127033</td>\n",
       "      <td>12600</td>\n",
       "      <td>Verified</td>\n",
       "      <td>322xx</td>\n",
       "      <td>0</td>\n",
       "      <td>(1.0, 0.0)</td>\n",
       "      <td>(0.0, 0.0, 0.0, 0.0, 1.0, 0.0, 0.0)</td>\n",
       "      <td>(0.0, 1.0, 0.0, 0.0)</td>\n",
       "      <td>(1.0, 0.0)</td>\n",
       "      <td>(0.0, 1.0, 0.0, 0.0, 0.0, 0.0, 0.0, 0.0, 0.0, ...</td>\n",
       "    </tr>\n",
       "    <tr>\n",
       "      <th>...</th>\n",
       "      <td>...</td>\n",
       "      <td>...</td>\n",
       "      <td>...</td>\n",
       "      <td>...</td>\n",
       "      <td>...</td>\n",
       "      <td>...</td>\n",
       "      <td>...</td>\n",
       "      <td>...</td>\n",
       "      <td>...</td>\n",
       "      <td>...</td>\n",
       "      <td>...</td>\n",
       "      <td>...</td>\n",
       "      <td>...</td>\n",
       "      <td>...</td>\n",
       "      <td>...</td>\n",
       "      <td>...</td>\n",
       "      <td>...</td>\n",
       "      <td>...</td>\n",
       "      <td>...</td>\n",
       "      <td>...</td>\n",
       "      <td>...</td>\n",
       "    </tr>\n",
       "    <tr>\n",
       "      <th>78353</th>\n",
       "      <td>0</td>\n",
       "      <td>2</td>\n",
       "      <td>MO</td>\n",
       "      <td>38000.0</td>\n",
       "      <td>Individual</td>\n",
       "      <td>12173</td>\n",
       "      <td>1091</td>\n",
       "      <td>87.7</td>\n",
       "      <td>0</td>\n",
       "      <td>0</td>\n",
       "      <td>...</td>\n",
       "      <td>44639</td>\n",
       "      <td>13900</td>\n",
       "      <td>Source Verified</td>\n",
       "      <td>657xx</td>\n",
       "      <td>0</td>\n",
       "      <td>(1.0, 0.0)</td>\n",
       "      <td>(0.0, 0.0, 0.0, 1.0, 0.0, 0.0, 0.0)</td>\n",
       "      <td>(1.0, 0.0, 0.0, 0.0)</td>\n",
       "      <td>(0.0, 1.0)</td>\n",
       "      <td>(0.0, 1.0, 0.0, 0.0, 0.0, 0.0, 0.0, 0.0, 0.0, ...</td>\n",
       "    </tr>\n",
       "    <tr>\n",
       "      <th>78354</th>\n",
       "      <td>0</td>\n",
       "      <td>1</td>\n",
       "      <td>IL</td>\n",
       "      <td>50000.0</td>\n",
       "      <td>Individual</td>\n",
       "      <td>2059</td>\n",
       "      <td>1955</td>\n",
       "      <td>49.9</td>\n",
       "      <td>0</td>\n",
       "      <td>0</td>\n",
       "      <td>...</td>\n",
       "      <td>33116</td>\n",
       "      <td>8200</td>\n",
       "      <td>Not Verified</td>\n",
       "      <td>629xx</td>\n",
       "      <td>0</td>\n",
       "      <td>(1.0, 0.0)</td>\n",
       "      <td>(1.0, 0.0, 0.0, 0.0, 0.0, 0.0, 0.0)</td>\n",
       "      <td>(0.0, 0.0, 1.0, 0.0)</td>\n",
       "      <td>(1.0, 0.0)</td>\n",
       "      <td>(0.0, 0.0, 1.0, 0.0, 0.0, 0.0, 0.0, 0.0, 0.0, ...</td>\n",
       "    </tr>\n",
       "    <tr>\n",
       "      <th>78355</th>\n",
       "      <td>0</td>\n",
       "      <td>0</td>\n",
       "      <td>TX</td>\n",
       "      <td>50000.0</td>\n",
       "      <td>Individual</td>\n",
       "      <td>10298</td>\n",
       "      <td>60</td>\n",
       "      <td>99.8</td>\n",
       "      <td>0</td>\n",
       "      <td>0</td>\n",
       "      <td>...</td>\n",
       "      <td>16386</td>\n",
       "      <td>27200</td>\n",
       "      <td>Verified</td>\n",
       "      <td>750xx</td>\n",
       "      <td>1</td>\n",
       "      <td>(1.0, 0.0)</td>\n",
       "      <td>(0.0, 1.0, 0.0, 0.0, 0.0, 0.0, 0.0)</td>\n",
       "      <td>(0.0, 1.0, 0.0, 0.0)</td>\n",
       "      <td>(0.0, 1.0)</td>\n",
       "      <td>(1.0, 0.0, 0.0, 0.0, 0.0, 0.0, 0.0, 0.0, 0.0, ...</td>\n",
       "    </tr>\n",
       "    <tr>\n",
       "      <th>78356</th>\n",
       "      <td>0</td>\n",
       "      <td>4</td>\n",
       "      <td>NJ</td>\n",
       "      <td>99000.0</td>\n",
       "      <td>Individual</td>\n",
       "      <td>36221</td>\n",
       "      <td>2405</td>\n",
       "      <td>81.6</td>\n",
       "      <td>0</td>\n",
       "      <td>0</td>\n",
       "      <td>...</td>\n",
       "      <td>48377</td>\n",
       "      <td>16700</td>\n",
       "      <td>Not Verified</td>\n",
       "      <td>070xx</td>\n",
       "      <td>0</td>\n",
       "      <td>(1.0, 0.0)</td>\n",
       "      <td>(1.0, 0.0, 0.0, 0.0, 0.0, 0.0, 0.0)</td>\n",
       "      <td>(1.0, 0.0, 0.0, 0.0)</td>\n",
       "      <td>(1.0, 0.0)</td>\n",
       "      <td>(0.0, 1.0, 0.0, 0.0, 0.0, 0.0, 0.0, 0.0, 0.0, ...</td>\n",
       "    </tr>\n",
       "    <tr>\n",
       "      <th>78357</th>\n",
       "      <td>0</td>\n",
       "      <td>2</td>\n",
       "      <td>PA</td>\n",
       "      <td>35942.0</td>\n",
       "      <td>Individual</td>\n",
       "      <td>11413</td>\n",
       "      <td>1131</td>\n",
       "      <td>92.0</td>\n",
       "      <td>0</td>\n",
       "      <td>0</td>\n",
       "      <td>...</td>\n",
       "      <td>9894</td>\n",
       "      <td>21700</td>\n",
       "      <td>Not Verified</td>\n",
       "      <td>170xx</td>\n",
       "      <td>0</td>\n",
       "      <td>(1.0, 0.0)</td>\n",
       "      <td>(0.0, 1.0, 0.0, 0.0, 0.0, 0.0, 0.0)</td>\n",
       "      <td>(1.0, 0.0, 0.0, 0.0)</td>\n",
       "      <td>(0.0, 1.0)</td>\n",
       "      <td>(0.0, 1.0, 0.0, 0.0, 0.0, 0.0, 0.0, 0.0, 0.0, ...</td>\n",
       "    </tr>\n",
       "  </tbody>\n",
       "</table>\n",
       "<p>78358 rows × 74 columns</p>\n",
       "</div>"
      ],
      "text/plain": [
       "       acc_now_delinq  acc_open_past_24mths addr_state  annual_inc  \\\n",
       "0                   0                     8         KS     65000.0   \n",
       "1                   0                     1         VT    150000.0   \n",
       "2                   0                     8         IN     75000.0   \n",
       "3                   0                     7         OH    175000.0   \n",
       "4                   0                     1         FL     44000.0   \n",
       "...               ...                   ...        ...         ...   \n",
       "78353               0                     2         MO     38000.0   \n",
       "78354               0                     1         IL     50000.0   \n",
       "78355               0                     0         TX     50000.0   \n",
       "78356               0                     4         NJ     99000.0   \n",
       "78357               0                     2         PA     35942.0   \n",
       "\n",
       "      application_type  avg_cur_bal  bc_open_to_buy  bc_util  \\\n",
       "0           Individual        10086           41055     17.1   \n",
       "1           Individual        61551           24661     44.0   \n",
       "2           Individual         7176           23476     59.9   \n",
       "3           Individual        51015           21569     50.3   \n",
       "4           Individual        19041               0    102.4   \n",
       "...                ...          ...             ...      ...   \n",
       "78353       Individual        12173            1091     87.7   \n",
       "78354       Individual         2059            1955     49.9   \n",
       "78355       Individual        10298              60     99.8   \n",
       "78356       Individual        36221            2405     81.6   \n",
       "78357       Individual        11413            1131     92.0   \n",
       "\n",
       "       chargeoff_within_12_mths  collections_12_mths_ex_med  ...  \\\n",
       "0                             0                           0  ...   \n",
       "1                             0                           0  ...   \n",
       "2                             0                           0  ...   \n",
       "3                             0                           0  ...   \n",
       "4                             0                           0  ...   \n",
       "...                         ...                         ...  ...   \n",
       "78353                         0                           0  ...   \n",
       "78354                         0                           0  ...   \n",
       "78355                         0                           0  ...   \n",
       "78356                         0                           0  ...   \n",
       "78357                         0                           0  ...   \n",
       "\n",
       "       total_il_high_credit_limit  total_rev_hi_lim verification_status  \\\n",
       "0                          105910             73200        Not Verified   \n",
       "1                           51081             45500        Not Verified   \n",
       "2                           31758             83600            Verified   \n",
       "3                          146568             43400        Not Verified   \n",
       "4                          127033             12600            Verified   \n",
       "...                           ...               ...                 ...   \n",
       "78353                       44639             13900     Source Verified   \n",
       "78354                       33116              8200        Not Verified   \n",
       "78355                       16386             27200            Verified   \n",
       "78356                       48377             16700        Not Verified   \n",
       "78357                        9894             21700        Not Verified   \n",
       "\n",
       "       zip_code is_default application_type_index_vec  \\\n",
       "0         660xx          0                 (1.0, 0.0)   \n",
       "1         054xx          0                 (1.0, 0.0)   \n",
       "2         471xx          0                 (1.0, 0.0)   \n",
       "3         430xx          0                 (1.0, 0.0)   \n",
       "4         322xx          0                 (1.0, 0.0)   \n",
       "...         ...        ...                        ...   \n",
       "78353     657xx          0                 (1.0, 0.0)   \n",
       "78354     629xx          0                 (1.0, 0.0)   \n",
       "78355     750xx          1                 (1.0, 0.0)   \n",
       "78356     070xx          0                 (1.0, 0.0)   \n",
       "78357     170xx          0                 (1.0, 0.0)   \n",
       "\n",
       "                           grade_index_vec  home_ownership_index_vec  \\\n",
       "0      (1.0, 0.0, 0.0, 0.0, 0.0, 0.0, 0.0)      (1.0, 0.0, 0.0, 0.0)   \n",
       "1      (0.0, 0.0, 1.0, 0.0, 0.0, 0.0, 0.0)      (1.0, 0.0, 0.0, 0.0)   \n",
       "2      (0.0, 0.0, 0.0, 1.0, 0.0, 0.0, 0.0)      (1.0, 0.0, 0.0, 0.0)   \n",
       "3      (0.0, 0.0, 0.0, 1.0, 0.0, 0.0, 0.0)      (1.0, 0.0, 0.0, 0.0)   \n",
       "4      (0.0, 0.0, 0.0, 0.0, 1.0, 0.0, 0.0)      (0.0, 1.0, 0.0, 0.0)   \n",
       "...                                    ...                       ...   \n",
       "78353  (0.0, 0.0, 0.0, 1.0, 0.0, 0.0, 0.0)      (1.0, 0.0, 0.0, 0.0)   \n",
       "78354  (1.0, 0.0, 0.0, 0.0, 0.0, 0.0, 0.0)      (0.0, 0.0, 1.0, 0.0)   \n",
       "78355  (0.0, 1.0, 0.0, 0.0, 0.0, 0.0, 0.0)      (0.0, 1.0, 0.0, 0.0)   \n",
       "78356  (1.0, 0.0, 0.0, 0.0, 0.0, 0.0, 0.0)      (1.0, 0.0, 0.0, 0.0)   \n",
       "78357  (0.0, 1.0, 0.0, 0.0, 0.0, 0.0, 0.0)      (1.0, 0.0, 0.0, 0.0)   \n",
       "\n",
       "       initial_list_status_index_vec  \\\n",
       "0                         (1.0, 0.0)   \n",
       "1                         (1.0, 0.0)   \n",
       "2                         (1.0, 0.0)   \n",
       "3                         (1.0, 0.0)   \n",
       "4                         (1.0, 0.0)   \n",
       "...                              ...   \n",
       "78353                     (0.0, 1.0)   \n",
       "78354                     (1.0, 0.0)   \n",
       "78355                     (0.0, 1.0)   \n",
       "78356                     (1.0, 0.0)   \n",
       "78357                     (0.0, 1.0)   \n",
       "\n",
       "                                       purpose_index_vec  \n",
       "0      (1.0, 0.0, 0.0, 0.0, 0.0, 0.0, 0.0, 0.0, 0.0, ...  \n",
       "1      (0.0, 1.0, 0.0, 0.0, 0.0, 0.0, 0.0, 0.0, 0.0, ...  \n",
       "2      (1.0, 0.0, 0.0, 0.0, 0.0, 0.0, 0.0, 0.0, 0.0, ...  \n",
       "3      (0.0, 0.0, 1.0, 0.0, 0.0, 0.0, 0.0, 0.0, 0.0, ...  \n",
       "4      (0.0, 1.0, 0.0, 0.0, 0.0, 0.0, 0.0, 0.0, 0.0, ...  \n",
       "...                                                  ...  \n",
       "78353  (0.0, 1.0, 0.0, 0.0, 0.0, 0.0, 0.0, 0.0, 0.0, ...  \n",
       "78354  (0.0, 0.0, 1.0, 0.0, 0.0, 0.0, 0.0, 0.0, 0.0, ...  \n",
       "78355  (1.0, 0.0, 0.0, 0.0, 0.0, 0.0, 0.0, 0.0, 0.0, ...  \n",
       "78356  (0.0, 1.0, 0.0, 0.0, 0.0, 0.0, 0.0, 0.0, 0.0, ...  \n",
       "78357  (0.0, 1.0, 0.0, 0.0, 0.0, 0.0, 0.0, 0.0, 0.0, ...  \n",
       "\n",
       "[78358 rows x 74 columns]"
      ]
     },
     "execution_count": 32,
     "metadata": {},
     "output_type": "execute_result"
    }
   ],
   "source": [
    "df_vec.toPandas()"
   ]
  },
  {
   "cell_type": "markdown",
   "id": "8719ced9-b33a-4c4b-a62f-2dcbf96b648c",
   "metadata": {},
   "source": [
    "### int_rate column converted from str to float by removing %"
   ]
  },
  {
   "cell_type": "code",
   "execution_count": 33,
   "id": "d5654a26-7b5f-45dc-82cd-a25a31bdb60d",
   "metadata": {},
   "outputs": [],
   "source": [
    "df_vec = df_vec.withColumn(\"int_rate\", F.expr(\"substring(int_rate, 1, length(int_rate)-1)\").cast('double'))"
   ]
  },
  {
   "cell_type": "code",
   "execution_count": 34,
   "id": "57b6f07e-c3d1-4da8-8a54-9a66023f3773",
   "metadata": {},
   "outputs": [],
   "source": [
    "df_vec = df_vec.withColumn(\"revol_util\", F.expr(\"substring(revol_util, 1, length(revol_util)-1)\").cast('double'))"
   ]
  },
  {
   "cell_type": "markdown",
   "id": "98c62946-b2b8-4582-a26f-01c241b6a291",
   "metadata": {},
   "source": [
    "## Removing unwanted string columns and loan_status column"
   ]
  },
  {
   "cell_type": "code",
   "execution_count": 35,
   "id": "69de5caa-4d55-497b-9d29-37771797bb05",
   "metadata": {},
   "outputs": [],
   "source": [
    "drop_cols = drop_str_cols\n",
    "drop_cols.append('loan_status')"
   ]
  },
  {
   "cell_type": "code",
   "execution_count": 36,
   "id": "48d69696-1979-4470-a8e3-5d1b18303bf6",
   "metadata": {},
   "outputs": [],
   "source": [
    "df_vec = df_vec.drop(*drop_cols)\n",
    "df_vec = df_vec.drop(*select_str_cat_cols)"
   ]
  },
  {
   "cell_type": "code",
   "execution_count": 37,
   "id": "0ca83ab2-527d-4e38-9fd8-6a479c896fca",
   "metadata": {},
   "outputs": [],
   "source": [
    "#df_vec.toPandas()"
   ]
  },
  {
   "cell_type": "markdown",
   "id": "eddb1e5e-c273-4d14-87e5-c3e7ba2219d1",
   "metadata": {},
   "source": [
    "## Handling numerical feature columns"
   ]
  },
  {
   "cell_type": "code",
   "execution_count": 38,
   "id": "2ced14f0-9078-45d1-b206-7fce738cd942",
   "metadata": {},
   "outputs": [],
   "source": [
    "#num_cols"
   ]
  },
  {
   "cell_type": "code",
   "execution_count": 39,
   "id": "01424f14-004e-45e2-a6bf-d7742e01ef8d",
   "metadata": {},
   "outputs": [],
   "source": [
    "# Standard Scaler\n",
    "def make_pipeline_numeric(spark_df):\n",
    "    stages= []\n",
    "\n",
    "    scale_cols = spark_df.columns\n",
    "    scale_cols.remove('is_default')\n",
    "\n",
    "    #Assembling mixed data type transformations:\n",
    "    assembler = VectorAssembler(inputCols=scale_cols, outputCol=\"features\")\n",
    "    stages += [assembler]\n",
    "\n",
    "    #Standard scaler\n",
    "    scaler = StandardScaler(inputCol=\"features\", outputCol=\"scaledFeatures\",\n",
    "                        withStd=True, withMean=True)\n",
    "    stages += [scaler]\n",
    "\n",
    "    #Creating and running the pipeline:\n",
    "    pipeline = Pipeline(stages=stages)\n",
    "    pipelineModel = pipeline.fit(spark_df)\n",
    "    out_df = pipelineModel.transform(spark_df)\n",
    "\n",
    "    return out_df"
   ]
  },
  {
   "cell_type": "markdown",
   "id": "25b64637-bc54-40a6-bdb0-19321ac27b45",
   "metadata": {},
   "source": [
    "### Moving target column to the end"
   ]
  },
  {
   "cell_type": "code",
   "execution_count": 40,
   "id": "fe6d543c-07cf-47d1-b10f-0ba07717101e",
   "metadata": {},
   "outputs": [],
   "source": [
    "df_res = df_vec.select(*num_cols, 'is_default')"
   ]
  },
  {
   "cell_type": "code",
   "execution_count": 41,
   "id": "881735dd-cb49-4fd6-81a9-8332fae3cc38",
   "metadata": {},
   "outputs": [
    {
     "name": "stderr",
     "output_type": "stream",
     "text": [
      "                                                                                \r"
     ]
    }
   ],
   "source": [
    "df_model = make_pipeline_numeric(df_res)"
   ]
  },
  {
   "cell_type": "code",
   "execution_count": 42,
   "id": "385ef388-7a6a-4c3a-9267-5ac1c5cd280e",
   "metadata": {},
   "outputs": [],
   "source": [
    "def extract(row):\n",
    "    return tuple(row.scaledFeatures.toArray().tolist()) + (row.is_default, )"
   ]
  },
  {
   "cell_type": "code",
   "execution_count": 43,
   "id": "833f7e81-1cd2-4d58-8a67-d2729ce797a8",
   "metadata": {},
   "outputs": [
    {
     "name": "stderr",
     "output_type": "stream",
     "text": [
      "                                                                                \r"
     ]
    }
   ],
   "source": [
    "#cat_vec_cols = [cat_col+'_index_vec' for cat_col in select_str_cat_cols]\n",
    "#df_scaled = df_model.rdd.map(extract).toDF(df_vec.columns)\n",
    "df_reb = df_model.select('scaledFeatures', 'is_default')\n",
    "df_reb_table = df_reb.rdd.map(extract).toDF([*num_cols, 'is_default'])\n",
    "#df_reb_table.toPandas()"
   ]
  },
  {
   "cell_type": "markdown",
   "id": "16b54a07-8661-4762-9237-1df388d67fb3",
   "metadata": {},
   "source": [
    "# Baseline Model"
   ]
  },
  {
   "cell_type": "markdown",
   "id": "5e834f57-57cb-4c0b-a0c8-87db21c1e07a",
   "metadata": {},
   "source": [
    "## Train Test Split"
   ]
  },
  {
   "cell_type": "code",
   "execution_count": 44,
   "id": "23a99e90-6f96-4cc6-a79a-1f96513e914a",
   "metadata": {},
   "outputs": [],
   "source": [
    "#df_base = df_reb_table.select(['acc_now_delinq', 'acc_open_past_24mths', 'annual_inc', 'avg_cur_bal', 'funded_amnt', 'is_default'])\n",
    "df_base = df_reb_table"
   ]
  },
  {
   "cell_type": "code",
   "execution_count": 45,
   "id": "426202fb-0bef-4bfa-9851-9029da1a1f81",
   "metadata": {},
   "outputs": [],
   "source": [
    "train = df_base.sampleBy(\"is_default\", fractions={0: 0.6, 1: 0.6}, seed=10)"
   ]
  },
  {
   "cell_type": "code",
   "execution_count": 46,
   "id": "4033e071-d88d-405d-80eb-9f681446d0f6",
   "metadata": {},
   "outputs": [],
   "source": [
    "test = df_base.subtract(train)"
   ]
  },
  {
   "cell_type": "code",
   "execution_count": 47,
   "id": "78523d71-85f1-4a63-b153-b847a4169a2e",
   "metadata": {},
   "outputs": [],
   "source": [
    "from pyspark.ml.classification import RandomForestClassifier\n",
    "\n",
    "def make_pipeline(spark_df, label_col):        \n",
    "     \n",
    "    #for c in spark_df.columns:\n",
    "    #    spark_df = spark_df.withColumn(c, spark_df[c].cast(\"float\"))\n",
    "    \n",
    "    stages= []\n",
    "\n",
    "    #cols = ['acc_now_delinq', 'acc_open_past_24mths', 'annual_inc', 'avg_cur_bal', 'funded_amnt']\n",
    "    cols = spark_df.columns\n",
    "    \n",
    "    #spark_df = spark_df.withColumn('acc_now_delinq',F.abs(spark_df['acc_now_delinq']))\n",
    "    #spark_df = spark_df.withColumn('acc_open_past_24mths',F.abs(spark_df['acc_open_past_24mths']))\n",
    "    #spark_df = spark_df.withColumn('annual_inc',F.abs(spark_df['annual_inc']))\n",
    "    #spark_df = spark_df.withColumn('avg_cur_bal',F.abs(spark_df['avg_cur_bal']))\n",
    "    #spark_df = spark_df.withColumn('funded_amnt',F.abs(spark_df['funded_amnt']))\n",
    "    \n",
    "    #Assembling mixed data type transformations:\n",
    "    assembler = VectorAssembler(inputCols=cols, outputCol=\"features\")\n",
    "    stages += [assembler]    \n",
    "    \n",
    "    #Scaling features\n",
    "    #scaler = StandardScaler(inputCol=\"features\", outputCol=\"scaledFeatures\", withStd=True, withMean=True)\n",
    "    #stages += [scaler]\n",
    "    \n",
    "    \n",
    "    #RF Classifier\n",
    "    #rf = LinearSVC(featuresCol='features', labelCol='is_default')\n",
    "    rf = RandomForestClassifier(labelCol=label_col, featuresCol='features', numTrees=10)\n",
    "    stages += [rf]\n",
    "    \n",
    "    #Creating and running the pipeline:\n",
    "    pipeline = Pipeline(stages=stages)\n",
    "    pipelineModel = pipeline.fit(spark_df)\n",
    "\n",
    "    return pipelineModel"
   ]
  },
  {
   "cell_type": "code",
   "execution_count": 48,
   "id": "5c3b9fef-5709-4df4-9a77-cc0a88222c57",
   "metadata": {},
   "outputs": [
    {
     "name": "stderr",
     "output_type": "stream",
     "text": [
      "                                                                                \r"
     ]
    }
   ],
   "source": [
    "pipelineModel = make_pipeline(train, 'is_default')"
   ]
  },
  {
   "cell_type": "code",
   "execution_count": 49,
   "id": "385fd972-0a01-49b1-828a-b159edcda42d",
   "metadata": {},
   "outputs": [],
   "source": [
    "df_model_pred = pipelineModel.transform(test)"
   ]
  },
  {
   "cell_type": "code",
   "execution_count": 50,
   "id": "d1f63a83-0c7e-442e-9292-77a74150c234",
   "metadata": {},
   "outputs": [],
   "source": [
    "#df_model_pred.show()"
   ]
  },
  {
   "cell_type": "code",
   "execution_count": 51,
   "id": "ff0c5b0c-a550-40d3-8877-9ce41e014faf",
   "metadata": {},
   "outputs": [],
   "source": [
    "#output_data = df_model_pred.rdd.map(lambda x: (x[\"is_default\"], x[\"prediction\"]))"
   ]
  },
  {
   "cell_type": "code",
   "execution_count": 52,
   "id": "2ba34334-e008-4503-ba0e-b0c2aa83a271",
   "metadata": {},
   "outputs": [
    {
     "name": "stderr",
     "output_type": "stream",
     "text": [
      "[Stage 464:============================>                            (1 + 1) / 2]\r"
     ]
    },
    {
     "name": "stdout",
     "output_type": "stream",
     "text": [
      "+----------+----------+-----+\n",
      "|is_default|prediction|count|\n",
      "+----------+----------+-----+\n",
      "|         1|       0.0|  576|\n",
      "|         0|       0.0|26973|\n",
      "|         1|       1.0| 3770|\n",
      "+----------+----------+-----+\n",
      "\n"
     ]
    },
    {
     "name": "stderr",
     "output_type": "stream",
     "text": [
      "                                                                                \r"
     ]
    }
   ],
   "source": [
    "df_model_pred.orderBy('is_default','prediction').groupBy('is_default','prediction').count().show()"
   ]
  },
  {
   "cell_type": "markdown",
   "id": "316c33a6-2a38-4495-98ee-9a81ec8dbcab",
   "metadata": {},
   "source": [
    "# Baseline Model Evaluation"
   ]
  },
  {
   "cell_type": "code",
   "execution_count": 53,
   "id": "3bcc5157-6049-4b82-9de5-c4a18957046e",
   "metadata": {},
   "outputs": [],
   "source": [
    "from pyspark.ml.evaluation import BinaryClassificationEvaluator"
   ]
  },
  {
   "cell_type": "code",
   "execution_count": 54,
   "id": "896f1619-a283-411a-9488-81f0defe191f",
   "metadata": {},
   "outputs": [],
   "source": [
    "evaluator = BinaryClassificationEvaluator(labelCol=\"is_default\", rawPredictionCol=\"prediction\")"
   ]
  },
  {
   "cell_type": "code",
   "execution_count": 55,
   "id": "9272e2f0-3e2e-4c5c-b689-62c1279170b7",
   "metadata": {},
   "outputs": [
    {
     "name": "stderr",
     "output_type": "stream",
     "text": [
      "                                                                                \r"
     ]
    },
    {
     "name": "stdout",
     "output_type": "stream",
     "text": [
      "Area under ROC Curve: 0.9337\n",
      "Area under PR Curve: 0.9429\n"
     ]
    }
   ],
   "source": [
    "auroc = evaluator.evaluate(df_model_pred, {evaluator.metricName: \"areaUnderROC\"})\n",
    "auprc = evaluator.evaluate(df_model_pred, {evaluator.metricName: \"areaUnderPR\"})\n",
    "\n",
    "print(\"Area under ROC Curve: {:.4f}\".format(auroc))\n",
    "print(\"Area under PR Curve: {:.4f}\".format(auprc))"
   ]
  },
  {
   "cell_type": "code",
   "execution_count": 56,
   "id": "1cab66c5-5077-4e28-9320-ac221fd70b9e",
   "metadata": {},
   "outputs": [
    {
     "name": "stderr",
     "output_type": "stream",
     "text": [
      "                                                                                \r"
     ]
    },
    {
     "name": "stdout",
     "output_type": "stream",
     "text": [
      "              precision    recall  f1-score   support\n",
      "\n",
      "           0       0.92      0.94      0.93     26973\n",
      "           1       0.60      0.52      0.56      4346\n",
      "\n",
      "    accuracy                           0.89     31319\n",
      "   macro avg       0.76      0.73      0.75     31319\n",
      "weighted avg       0.88      0.89      0.88     31319\n",
      "\n"
     ]
    }
   ],
   "source": [
    "y_true = df_model_pred.select(['is_default']).collect()\n",
    "y_pred = df_model_pred.select(['prediction']).collect()\n",
    "\n",
    "from sklearn.metrics import classification_report, confusion_matrix\n",
    "print(classification_report(y_true, y_pred))"
   ]
  },
  {
   "cell_type": "code",
   "execution_count": 57,
   "id": "be86261d-db87-411d-99c3-ce3a71d700c4",
   "metadata": {},
   "outputs": [
    {
     "name": "stderr",
     "output_type": "stream",
     "text": [
      "                                                                                \r"
     ]
    }
   ],
   "source": [
    "if auroc > 0.7:\n",
    "    pipelineModel.write().overwrite().save(os.environ[\"STORAGE\"]+\"/svadivel/pipeline/baseline/\")"
   ]
  },
  {
   "cell_type": "markdown",
   "id": "c4290d5c-f206-423c-a032-de7e2b400e80",
   "metadata": {},
   "source": [
    "# Stopping Spark"
   ]
  },
  {
   "cell_type": "code",
   "execution_count": 58,
   "id": "61ef7e15-2749-41cf-afe8-0b3fd791fd37",
   "metadata": {},
   "outputs": [],
   "source": [
    "spark.stop()"
   ]
  },
  {
   "cell_type": "code",
   "execution_count": null,
   "id": "39c2bd93-fe45-42f3-9305-4aa068f830cf",
   "metadata": {},
   "outputs": [],
   "source": []
  }
 ],
 "metadata": {
  "kernelspec": {
   "display_name": "Python 3 (ipykernel)",
   "language": "python",
   "name": "python3"
  },
  "language_info": {
   "codemirror_mode": {
    "name": "ipython",
    "version": 3
   },
   "file_extension": ".py",
   "mimetype": "text/x-python",
   "name": "python",
   "nbconvert_exporter": "python",
   "pygments_lexer": "ipython3",
   "version": "3.7.13"
  }
 },
 "nbformat": 4,
 "nbformat_minor": 5
}
